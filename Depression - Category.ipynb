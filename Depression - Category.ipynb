{
 "cells": [
  {
   "cell_type": "markdown",
   "id": "f2ac8dcf",
   "metadata": {},
   "source": [
    "# Source of The Dataset\n",
    "* Own dataset"
   ]
  },
  {
   "cell_type": "code",
   "execution_count": 1,
   "id": "462462ce",
   "metadata": {
    "pycharm": {
     "is_executing": true,
     "name": "#%%\n"
    }
   },
   "outputs": [],
   "source": [
    "# loadin important libraries\n",
    "\n",
    "import pandas as pd\n",
    "import numpy as np\n",
    "import matplotlib.pyplot as plt\n",
    "import seaborn as sns\n",
    "import warnings\n",
    "\n",
    "warnings.filterwarnings('ignore')\n",
    "%matplotlib inline\n"
   ]
  },
  {
   "cell_type": "code",
   "execution_count": 2,
   "id": "5ed9d32d",
   "metadata": {
    "pycharm": {
     "is_executing": true,
     "name": "#%%\n"
    }
   },
   "outputs": [
    {
     "name": "stdout",
     "output_type": "stream",
     "text": [
      "(754, 35)\n"
     ]
    },
    {
     "data": {
      "text/html": [
       "<div>\n",
       "<style scoped>\n",
       "    .dataframe tbody tr th:only-of-type {\n",
       "        vertical-align: middle;\n",
       "    }\n",
       "\n",
       "    .dataframe tbody tr th {\n",
       "        vertical-align: top;\n",
       "    }\n",
       "\n",
       "    .dataframe thead th {\n",
       "        text-align: right;\n",
       "    }\n",
       "</style>\n",
       "<table border=\"1\" class=\"dataframe\">\n",
       "  <thead>\n",
       "    <tr style=\"text-align: right;\">\n",
       "      <th></th>\n",
       "      <th>mood</th>\n",
       "      <th>age</th>\n",
       "      <th>gender</th>\n",
       "      <th>subject</th>\n",
       "      <th>semester</th>\n",
       "      <th>sibilings</th>\n",
       "      <th>living</th>\n",
       "      <th>employment</th>\n",
       "      <th>personality</th>\n",
       "      <th>relationship</th>\n",
       "      <th>...</th>\n",
       "      <th>meditation</th>\n",
       "      <th>video_games</th>\n",
       "      <th>study_hours</th>\n",
       "      <th>phone_hours</th>\n",
       "      <th>medication</th>\n",
       "      <th>movies_per_week</th>\n",
       "      <th>music_hours</th>\n",
       "      <th>depression</th>\n",
       "      <th>category</th>\n",
       "      <th>verdict</th>\n",
       "    </tr>\n",
       "  </thead>\n",
       "  <tbody>\n",
       "    <tr>\n",
       "      <th>0</th>\n",
       "      <td>Tensed</td>\n",
       "      <td>24</td>\n",
       "      <td>Female</td>\n",
       "      <td>Engineering</td>\n",
       "      <td>9</td>\n",
       "      <td>3</td>\n",
       "      <td>With family</td>\n",
       "      <td>Part time</td>\n",
       "      <td>Extrovert</td>\n",
       "      <td>In a relationship</td>\n",
       "      <td>...</td>\n",
       "      <td>Not at all</td>\n",
       "      <td>Not at all</td>\n",
       "      <td>2</td>\n",
       "      <td>6 to 8</td>\n",
       "      <td>No</td>\n",
       "      <td>0</td>\n",
       "      <td>0</td>\n",
       "      <td>18</td>\n",
       "      <td>Moderate</td>\n",
       "      <td>Yes</td>\n",
       "    </tr>\n",
       "    <tr>\n",
       "      <th>1</th>\n",
       "      <td>Tensed</td>\n",
       "      <td>23</td>\n",
       "      <td>Male</td>\n",
       "      <td>Engineering</td>\n",
       "      <td>11</td>\n",
       "      <td>3</td>\n",
       "      <td>With family</td>\n",
       "      <td>None</td>\n",
       "      <td>Ambivert</td>\n",
       "      <td>Single</td>\n",
       "      <td>...</td>\n",
       "      <td>Sometimes</td>\n",
       "      <td>Sometimes</td>\n",
       "      <td>4</td>\n",
       "      <td>0 to 2</td>\n",
       "      <td>No</td>\n",
       "      <td>5</td>\n",
       "      <td>0</td>\n",
       "      <td>1</td>\n",
       "      <td>None</td>\n",
       "      <td>No</td>\n",
       "    </tr>\n",
       "    <tr>\n",
       "      <th>2</th>\n",
       "      <td>Sad</td>\n",
       "      <td>19</td>\n",
       "      <td>Female</td>\n",
       "      <td>Pharmacy</td>\n",
       "      <td>3</td>\n",
       "      <td>0</td>\n",
       "      <td>With family</td>\n",
       "      <td>None</td>\n",
       "      <td>Ambivert</td>\n",
       "      <td>Single</td>\n",
       "      <td>...</td>\n",
       "      <td>Not at all</td>\n",
       "      <td>Not at all</td>\n",
       "      <td>3</td>\n",
       "      <td>6 to 8</td>\n",
       "      <td>No</td>\n",
       "      <td>0</td>\n",
       "      <td>0</td>\n",
       "      <td>21</td>\n",
       "      <td>Severe</td>\n",
       "      <td>Yes</td>\n",
       "    </tr>\n",
       "    <tr>\n",
       "      <th>3</th>\n",
       "      <td>Lost</td>\n",
       "      <td>23</td>\n",
       "      <td>Female</td>\n",
       "      <td>Engineering</td>\n",
       "      <td>13</td>\n",
       "      <td>1</td>\n",
       "      <td>With family</td>\n",
       "      <td>None</td>\n",
       "      <td>Introvert</td>\n",
       "      <td>In a relationship</td>\n",
       "      <td>...</td>\n",
       "      <td>Not at all</td>\n",
       "      <td>Very Often</td>\n",
       "      <td>1</td>\n",
       "      <td>0 to 2</td>\n",
       "      <td>No</td>\n",
       "      <td>5</td>\n",
       "      <td>0</td>\n",
       "      <td>23</td>\n",
       "      <td>Severe</td>\n",
       "      <td>Yes</td>\n",
       "    </tr>\n",
       "    <tr>\n",
       "      <th>4</th>\n",
       "      <td>Lost</td>\n",
       "      <td>22</td>\n",
       "      <td>Male</td>\n",
       "      <td>Engineering</td>\n",
       "      <td>11</td>\n",
       "      <td>1</td>\n",
       "      <td>With family</td>\n",
       "      <td>None</td>\n",
       "      <td>Ambivert</td>\n",
       "      <td>Single</td>\n",
       "      <td>...</td>\n",
       "      <td>Not at all</td>\n",
       "      <td>Very Often</td>\n",
       "      <td>2</td>\n",
       "      <td>6 to 8</td>\n",
       "      <td>No</td>\n",
       "      <td>1</td>\n",
       "      <td>4</td>\n",
       "      <td>19</td>\n",
       "      <td>Moderate</td>\n",
       "      <td>Yes</td>\n",
       "    </tr>\n",
       "  </tbody>\n",
       "</table>\n",
       "<p>5 rows × 35 columns</p>\n",
       "</div>"
      ],
      "text/plain": [
       "     mood  age  gender      subject  semester  sibilings       living  \\\n",
       "0  Tensed   24  Female  Engineering         9          3  With family   \n",
       "1  Tensed   23    Male  Engineering        11          3  With family   \n",
       "2     Sad   19  Female     Pharmacy         3          0  With family   \n",
       "3    Lost   23  Female  Engineering        13          1  With family   \n",
       "4    Lost   22    Male  Engineering        11          1  With family   \n",
       "\n",
       "  employment personality       relationship  ...  meditation video_games  \\\n",
       "0  Part time   Extrovert  In a relationship  ...  Not at all  Not at all   \n",
       "1       None    Ambivert             Single  ...   Sometimes   Sometimes   \n",
       "2       None    Ambivert             Single  ...  Not at all  Not at all   \n",
       "3       None   Introvert  In a relationship  ...  Not at all  Very Often   \n",
       "4       None    Ambivert             Single  ...  Not at all  Very Often   \n",
       "\n",
       "  study_hours phone_hours medication movies_per_week music_hours depression  \\\n",
       "0           2      6 to 8         No               0           0         18   \n",
       "1           4      0 to 2         No               5           0          1   \n",
       "2           3      6 to 8         No               0           0         21   \n",
       "3           1      0 to 2         No               5           0         23   \n",
       "4           2      6 to 8         No               1           4         19   \n",
       "\n",
       "   category  verdict  \n",
       "0  Moderate      Yes  \n",
       "1      None       No  \n",
       "2    Severe      Yes  \n",
       "3    Severe      Yes  \n",
       "4  Moderate      Yes  \n",
       "\n",
       "[5 rows x 35 columns]"
      ]
     },
     "execution_count": 2,
     "metadata": {},
     "output_type": "execute_result"
    }
   ],
   "source": [
    "# read the dataset \n",
    "\n",
    "df = pd.read_csv('Depression.csv')\n",
    "df.columns = [c.strip() for c in df.columns]\n",
    "df.columns = [c.lower().replace(' ', '_') for c in df.columns]\n",
    "print(df.shape)\n",
    "df.head()"
   ]
  },
  {
   "cell_type": "code",
   "execution_count": 3,
   "id": "ed73e217",
   "metadata": {
    "pycharm": {
     "is_executing": true,
     "name": "#%%\n"
    }
   },
   "outputs": [
    {
     "name": "stdout",
     "output_type": "stream",
     "text": [
      "Feature  mood  has  5  unique values ---->  ['Tensed' 'Sad' 'Lost' 'Happy' 'Angry']\n",
      "Feature  age  has  16  unique values\n",
      "Feature  gender  has  3  unique values ---->  ['Female' 'Male' 'Others']\n",
      "Feature  subject  has  69  unique values\n",
      "Feature  semester  has  22  unique values\n",
      "Feature  sibilings  has  12  unique values\n",
      "Feature  living  has  2  unique values ---->  ['With family' 'Without family']\n",
      "Feature  employment  has  3  unique values ---->  ['Part time' 'None' 'Full time']\n",
      "Feature  personality  has  3  unique values ---->  ['Extrovert' 'Ambivert' 'Introvert']\n",
      "Feature  relationship  has  5  unique values ---->  ['In a relationship' 'Single' 'Engaged' 'Divorced' 'Married']\n",
      "Feature  wakeup  has  75  unique values\n",
      "Feature  breakfast  has  68  unique values\n",
      "Feature  launch  has  58  unique values\n",
      "Feature  dinner  has  27  unique values\n",
      "Feature  sleep  has  65  unique values\n",
      "Feature  hobbies  has  178  unique values\n",
      "Feature  smoker  has  2  unique values ---->  ['No' 'Yes']\n",
      "Feature  alcoholic  has  2  unique values ---->  ['No' 'Yes']\n",
      "Feature  drug_addicted  has  2  unique values ---->  ['No' 'Yes']\n",
      "Feature  friends  has  15  unique values\n",
      "Feature  hangout  has  4  unique values ---->  ['Sometimes' 'Often' 'Not at all' 'Very Often']\n",
      "Feature  social_events  has  4  unique values ---->  ['Very Often' 'Sometimes' 'Not at all' 'Often']\n",
      "Feature  pray  has  3  unique values ---->  ['Regularly' 'Sometimes' 'Not at all']\n",
      "Feature  sports  has  3  unique values ---->  ['Not at all' 'Sometimes' 'Regularly']\n",
      "Feature  exercise  has  3  unique values ---->  ['Not at all' 'Regularly' 'Sometimes']\n",
      "Feature  meditation  has  3  unique values ---->  ['Not at all' 'Sometimes' 'Regularly']\n",
      "Feature  video_games  has  4  unique values ---->  ['Not at all' 'Sometimes' 'Very Often' 'Often']\n",
      "Feature  study_hours  has  11  unique values\n",
      "Feature  phone_hours  has  4  unique values ---->  ['6 to 8' '0 to 2' '3 to 5' 'more than 8']\n",
      "Feature  medication  has  3  unique values ---->  ['No' nan 'Yes']\n",
      "Feature  movies_per_week  has  21  unique values\n",
      "Feature  music_hours  has  11  unique values\n",
      "Feature  depression  has  28  unique values\n",
      "Feature  category  has  3  unique values ---->  ['Moderate' 'None' 'Severe']\n",
      "Feature  verdict  has  2  unique values ---->  ['Yes' 'No']\n"
     ]
    }
   ],
   "source": [
    "for cols in df.columns:\n",
    "    unique_vals = df[cols].unique()\n",
    "    if len(unique_vals) <= 10:\n",
    "        print(\"Feature \", cols, \" has \", len(unique_vals), \" unique values ----> \", unique_vals)\n",
    "    else:\n",
    "        print(\"Feature \", cols, \" has \", len(unique_vals), \" unique values\")"
   ]
  },
  {
   "cell_type": "markdown",
   "id": "02864ef3",
   "metadata": {},
   "source": [
    "# Data Visualization"
   ]
  },
  {
   "cell_type": "code",
   "execution_count": 4,
   "id": "71224ec1",
   "metadata": {
    "pycharm": {
     "is_executing": true,
     "name": "#%%\n"
    }
   },
   "outputs": [
    {
     "data": {
      "text/plain": [
       "<AxesSubplot:xlabel='gender', ylabel='depression'>"
      ]
     },
     "execution_count": 4,
     "metadata": {},
     "output_type": "execute_result"
    },
    {
     "data": {
      "image/png": "[encoded data removed]",
      "text/plain": [
       "<Figure size 432x288 with 1 Axes>"
      ]
     },
     "metadata": {},
     "output_type": "display_data"
    }
   ],
   "source": [
    "sns.set_theme(style=\"whitegrid\")\n",
    "sns.swarmplot(y = 'depression', x = 'gender', data = df)"
   ]
  },
  {
   "cell_type": "code",
   "execution_count": 5,
   "id": "4a424fbd",
   "metadata": {
    "pycharm": {
     "is_executing": true,
     "name": "#%%\n"
    }
   },
   "outputs": [
    {
     "data": {
      "text/plain": [
       "<AxesSubplot:xlabel='depression', ylabel='Proportion'>"
      ]
     },
     "execution_count": 5,
     "metadata": {},
     "output_type": "execute_result"
    },
    {
     "data": {
      "image/png": "[encoded data removed]",
      "text/plain": [
       "<Figure size 432x288 with 1 Axes>"
      ]
     },
     "metadata": {},
     "output_type": "display_data"
    }
   ],
   "source": [
    "sns.ecdfplot(x = 'depression', data = df, hue = 'personality')"
   ]
  },
  {
   "cell_type": "code",
   "execution_count": 6,
   "id": "53a57b89",
   "metadata": {
    "pycharm": {
     "is_executing": true,
     "name": "#%%\n"
    }
   },
   "outputs": [
    {
     "data": {
      "text/plain": [
       "<AxesSubplot:xlabel='depression', ylabel='Count'>"
      ]
     },
     "execution_count": 6,
     "metadata": {},
     "output_type": "execute_result"
    },
    {
     "data": {
      "image/png": "[encoded data removed]",
      "text/plain": [
       "<Figure size 432x288 with 1 Axes>"
      ]
     },
     "metadata": {},
     "output_type": "display_data"
    }
   ],
   "source": [
    "sns.histplot(x = 'depression', data = df, hue = 'relationship')"
   ]
  },
  {
   "cell_type": "code",
   "execution_count": 7,
   "id": "2a0f499a",
   "metadata": {
    "pycharm": {
     "is_executing": true,
     "name": "#%%\n"
    }
   },
   "outputs": [
    {
     "name": "stdout",
     "output_type": "stream",
     "text": [
      "Counter({'Moderate': 543, 'None': 121, 'Severe': 90})\n",
      "dict_values([543, 121, 90])\n",
      "dict_keys(['Moderate', 'None', 'Severe'])\n",
      "[('Moderate', 543), ('None', 121), ('Severe', 90)]\n",
      "{'Moderate': 543, 'None': 121, 'Severe': 90}\n"
     ]
    }
   ],
   "source": [
    "import collections\n",
    "\n",
    "a = df['category']\n",
    "counter = collections.Counter(a)\n",
    "print(counter)\n",
    "values = counter.values()\n",
    "print(values)\n",
    "keys = counter.keys()\n",
    "print(keys)\n",
    "print(counter.most_common(3))\n",
    "print(dict(counter))"
   ]
  },
  {
   "cell_type": "code",
   "execution_count": 8,
   "id": "564e3caa",
   "metadata": {
    "pycharm": {
     "is_executing": true,
     "name": "#%%\n"
    }
   },
   "outputs": [
    {
     "data": {
      "text/plain": [
       "([<matplotlib.patches.Wedge at 0x1a6e3657430>,\n",
       "  <matplotlib.patches.Wedge at 0x1a6e3657b20>,\n",
       "  <matplotlib.patches.Wedge at 0x1a6e36671f0>],\n",
       " [Text(-0.7015901314352656, 0.847213838102664, 'Moderate'),\n",
       "  Text(0.34253313520672285, -1.0453090697422716, 'None'),\n",
       "  Text(1.0235620162036074, -0.40289055459914463, 'Severe')],\n",
       " [Text(-0.38268552623741753, 0.46211663896508937, '72.0%'),\n",
       "  Text(0.18683625556730335, -0.5701685834957844, '16.0%'),\n",
       "  Text(0.5583065542928767, -0.21975848432680614, '11.9%')])"
      ]
     },
     "execution_count": 8,
     "metadata": {},
     "output_type": "execute_result"
    },
    {
     "data": {
      "image/png": "[encoded data removed]",
      "text/plain": [
       "<Figure size 576x432 with 1 Axes>"
      ]
     },
     "metadata": {},
     "output_type": "display_data"
    }
   ],
   "source": [
    "plt.rcParams[\"figure.figsize\"] = (8, 6)\n",
    "plt.pie(values, labels=keys, autopct='%1.1f%%')"
   ]
  },
  {
   "cell_type": "markdown",
   "id": "472da2b2",
   "metadata": {},
   "source": [
    "# Data Pre-Processing Phase"
   ]
  },
  {
   "cell_type": "code",
   "execution_count": 9,
   "id": "89390b38",
   "metadata": {},
   "outputs": [],
   "source": [
    "df = df[['semester', 'friends', 'age', 'study_hours', 'music_hours', 'phone_hours', 'hangout', 'social_events', 'category']]"
   ]
  },
  {
   "cell_type": "code",
   "execution_count": 10,
   "id": "3cffe94e",
   "metadata": {
    "pycharm": {
     "is_executing": true,
     "name": "#%%\n"
    }
   },
   "outputs": [
    {
     "name": "stdout",
     "output_type": "stream",
     "text": [
      "(754, 9)\n"
     ]
    },
    {
     "data": {
      "text/plain": [
       "semester         0\n",
       "friends          0\n",
       "age              0\n",
       "study_hours      0\n",
       "music_hours      0\n",
       "phone_hours      0\n",
       "hangout          0\n",
       "social_events    0\n",
       "category         0\n",
       "dtype: int64"
      ]
     },
     "execution_count": 10,
     "metadata": {},
     "output_type": "execute_result"
    }
   ],
   "source": [
    "# checing for null values\n",
    "\n",
    "print(df.shape)\n",
    "df.isnull().sum()"
   ]
  },
  {
   "cell_type": "code",
   "execution_count": 11,
   "id": "d9c5fc20",
   "metadata": {
    "pycharm": {
     "is_executing": true,
     "name": "#%%\n"
    }
   },
   "outputs": [
    {
     "name": "stdout",
     "output_type": "stream",
     "text": [
      "(753, 9)\n"
     ]
    },
    {
     "data": {
      "text/html": [
       "<div>\n",
       "<style scoped>\n",
       "    .dataframe tbody tr th:only-of-type {\n",
       "        vertical-align: middle;\n",
       "    }\n",
       "\n",
       "    .dataframe tbody tr th {\n",
       "        vertical-align: top;\n",
       "    }\n",
       "\n",
       "    .dataframe thead th {\n",
       "        text-align: right;\n",
       "    }\n",
       "</style>\n",
       "<table border=\"1\" class=\"dataframe\">\n",
       "  <thead>\n",
       "    <tr style=\"text-align: right;\">\n",
       "      <th></th>\n",
       "      <th>semester</th>\n",
       "      <th>friends</th>\n",
       "      <th>age</th>\n",
       "      <th>study_hours</th>\n",
       "      <th>music_hours</th>\n",
       "    </tr>\n",
       "  </thead>\n",
       "  <tbody>\n",
       "    <tr>\n",
       "      <th>count</th>\n",
       "      <td>753.000000</td>\n",
       "      <td>753.000000</td>\n",
       "      <td>753.000000</td>\n",
       "      <td>753.000000</td>\n",
       "      <td>753.000000</td>\n",
       "    </tr>\n",
       "    <tr>\n",
       "      <th>mean</th>\n",
       "      <td>7.962815</td>\n",
       "      <td>3.500664</td>\n",
       "      <td>22.539177</td>\n",
       "      <td>2.794157</td>\n",
       "      <td>1.722444</td>\n",
       "    </tr>\n",
       "    <tr>\n",
       "      <th>std</th>\n",
       "      <td>4.812019</td>\n",
       "      <td>2.717225</td>\n",
       "      <td>1.992371</td>\n",
       "      <td>2.198614</td>\n",
       "      <td>1.872602</td>\n",
       "    </tr>\n",
       "    <tr>\n",
       "      <th>min</th>\n",
       "      <td>1.000000</td>\n",
       "      <td>0.000000</td>\n",
       "      <td>17.000000</td>\n",
       "      <td>0.000000</td>\n",
       "      <td>0.000000</td>\n",
       "    </tr>\n",
       "    <tr>\n",
       "      <th>25%</th>\n",
       "      <td>5.000000</td>\n",
       "      <td>2.000000</td>\n",
       "      <td>21.000000</td>\n",
       "      <td>1.000000</td>\n",
       "      <td>1.000000</td>\n",
       "    </tr>\n",
       "    <tr>\n",
       "      <th>50%</th>\n",
       "      <td>8.000000</td>\n",
       "      <td>3.000000</td>\n",
       "      <td>22.000000</td>\n",
       "      <td>2.000000</td>\n",
       "      <td>1.000000</td>\n",
       "    </tr>\n",
       "    <tr>\n",
       "      <th>75%</th>\n",
       "      <td>11.000000</td>\n",
       "      <td>5.000000</td>\n",
       "      <td>24.000000</td>\n",
       "      <td>4.000000</td>\n",
       "      <td>2.000000</td>\n",
       "    </tr>\n",
       "    <tr>\n",
       "      <th>max</th>\n",
       "      <td>83.000000</td>\n",
       "      <td>15.000000</td>\n",
       "      <td>33.000000</td>\n",
       "      <td>10.000000</td>\n",
       "      <td>10.000000</td>\n",
       "    </tr>\n",
       "  </tbody>\n",
       "</table>\n",
       "</div>"
      ],
      "text/plain": [
       "         semester     friends         age  study_hours  music_hours\n",
       "count  753.000000  753.000000  753.000000   753.000000   753.000000\n",
       "mean     7.962815    3.500664   22.539177     2.794157     1.722444\n",
       "std      4.812019    2.717225    1.992371     2.198614     1.872602\n",
       "min      1.000000    0.000000   17.000000     0.000000     0.000000\n",
       "25%      5.000000    2.000000   21.000000     1.000000     1.000000\n",
       "50%      8.000000    3.000000   22.000000     2.000000     1.000000\n",
       "75%     11.000000    5.000000   24.000000     4.000000     2.000000\n",
       "max     83.000000   15.000000   33.000000    10.000000    10.000000"
      ]
     },
     "execution_count": 11,
     "metadata": {},
     "output_type": "execute_result"
    }
   ],
   "source": [
    "# remove null and uplicate entries\n",
    "\n",
    "df.dropna(inplace = True)\n",
    "\n",
    "# remove duplicate entries, if any\n",
    "\n",
    "df.drop_duplicates(inplace = True)\n",
    "\n",
    "print(df.shape)\n",
    "df.describe()"
   ]
  },
  {
   "cell_type": "code",
   "execution_count": 12,
   "id": "a14df3d6",
   "metadata": {
    "pycharm": {
     "is_executing": true,
     "name": "#%%\n"
    }
   },
   "outputs": [
    {
     "name": "stdout",
     "output_type": "stream",
     "text": [
      "5     108\n",
      "11     94\n",
      "12     85\n",
      "8      68\n",
      "10     56\n",
      "1      47\n",
      "4      46\n",
      "7      40\n",
      "2      39\n",
      "9      37\n",
      "6      35\n",
      "13     30\n",
      "3      27\n",
      "14     20\n",
      "15      9\n",
      "16      5\n",
      "17      2\n",
      "19      1\n",
      "20      1\n",
      "21      1\n",
      "23      1\n",
      "83      1\n",
      "Name: semester, dtype: int64\n",
      "\n",
      "3     143\n",
      "2     128\n",
      "5     106\n",
      "0     102\n",
      "4      93\n",
      "1      61\n",
      "6      37\n",
      "10     25\n",
      "7      23\n",
      "8      16\n",
      "11      5\n",
      "15      5\n",
      "9       4\n",
      "12      4\n",
      "13      1\n",
      "Name: friends, dtype: int64\n",
      "\n",
      "22    144\n",
      "23    143\n",
      "21    132\n",
      "24    116\n",
      "25     80\n",
      "20     73\n",
      "19     21\n",
      "26     17\n",
      "18     10\n",
      "27      6\n",
      "28      3\n",
      "29      2\n",
      "30      2\n",
      "33      2\n",
      "17      1\n",
      "31      1\n",
      "Name: age, dtype: int64\n",
      "\n",
      "1     166\n",
      "2     149\n",
      "3     122\n",
      "4      88\n",
      "0      82\n",
      "5      67\n",
      "6      37\n",
      "10     18\n",
      "7      11\n",
      "8       9\n",
      "9       4\n",
      "Name: study_hours, dtype: int64\n",
      "\n",
      "1     292\n",
      "0     172\n",
      "2     128\n",
      "3      59\n",
      "4      37\n",
      "5      25\n",
      "6      13\n",
      "7      12\n",
      "10      7\n",
      "8       5\n",
      "9       3\n",
      "Name: music_hours, dtype: int64\n",
      "\n",
      "3 to 5         298\n",
      "6 to 8         184\n",
      "more than 8    167\n",
      "0 to 2         104\n",
      "Name: phone_hours, dtype: int64\n",
      "\n",
      "Sometimes     402\n",
      "Often         174\n",
      "Very Often     97\n",
      "Not at all     80\n",
      "Name: hangout, dtype: int64\n",
      "\n",
      "Sometimes     414\n",
      "Not at all    156\n",
      "Often         106\n",
      "Very Often     77\n",
      "Name: social_events, dtype: int64\n",
      "\n",
      "Moderate    542\n",
      "None        121\n",
      "Severe       90\n",
      "Name: category, dtype: int64\n",
      "\n"
     ]
    }
   ],
   "source": [
    "# observe dataset\n",
    "\n",
    "for cols in df.columns:\n",
    "    print(str(df[cols].value_counts()) + '\\n')"
   ]
  },
  {
   "cell_type": "code",
   "execution_count": 13,
   "id": "0f9bc193",
   "metadata": {},
   "outputs": [],
   "source": [
    "# converting ordinal categorical values to numerical values\n",
    "\n",
    "df['hangout'].replace({'Not at all':0, 'Sometimes':1, 'Often':2, 'Very Often':3}, inplace = True)\n",
    "df['social_events'].replace({'Not at all':0, 'Sometimes':1, 'Often':2, 'Very Often':3}, inplace = True)\n",
    "df['phone_hours'].replace({'0 to 2': 0, '3 to 5': 1, '6 to 8':2, 'more than 8':3}, inplace = True)"
   ]
  },
  {
   "cell_type": "code",
   "execution_count": 14,
   "id": "605d5f75",
   "metadata": {},
   "outputs": [
    {
     "name": "stdout",
     "output_type": "stream",
     "text": [
      "(753, 9)\n"
     ]
    },
    {
     "data": {
      "text/html": [
       "<div>\n",
       "<style scoped>\n",
       "    .dataframe tbody tr th:only-of-type {\n",
       "        vertical-align: middle;\n",
       "    }\n",
       "\n",
       "    .dataframe tbody tr th {\n",
       "        vertical-align: top;\n",
       "    }\n",
       "\n",
       "    .dataframe thead th {\n",
       "        text-align: right;\n",
       "    }\n",
       "</style>\n",
       "<table border=\"1\" class=\"dataframe\">\n",
       "  <thead>\n",
       "    <tr style=\"text-align: right;\">\n",
       "      <th></th>\n",
       "      <th>semester</th>\n",
       "      <th>friends</th>\n",
       "      <th>age</th>\n",
       "      <th>study_hours</th>\n",
       "      <th>music_hours</th>\n",
       "      <th>phone_hours</th>\n",
       "      <th>hangout</th>\n",
       "      <th>social_events</th>\n",
       "      <th>category</th>\n",
       "    </tr>\n",
       "  </thead>\n",
       "  <tbody>\n",
       "    <tr>\n",
       "      <th>0</th>\n",
       "      <td>9</td>\n",
       "      <td>2</td>\n",
       "      <td>24</td>\n",
       "      <td>2</td>\n",
       "      <td>0</td>\n",
       "      <td>2</td>\n",
       "      <td>1</td>\n",
       "      <td>3</td>\n",
       "      <td>Moderate</td>\n",
       "    </tr>\n",
       "    <tr>\n",
       "      <th>1</th>\n",
       "      <td>11</td>\n",
       "      <td>4</td>\n",
       "      <td>23</td>\n",
       "      <td>4</td>\n",
       "      <td>0</td>\n",
       "      <td>0</td>\n",
       "      <td>2</td>\n",
       "      <td>1</td>\n",
       "      <td>None</td>\n",
       "    </tr>\n",
       "    <tr>\n",
       "      <th>2</th>\n",
       "      <td>3</td>\n",
       "      <td>4</td>\n",
       "      <td>19</td>\n",
       "      <td>3</td>\n",
       "      <td>0</td>\n",
       "      <td>2</td>\n",
       "      <td>1</td>\n",
       "      <td>1</td>\n",
       "      <td>Severe</td>\n",
       "    </tr>\n",
       "    <tr>\n",
       "      <th>3</th>\n",
       "      <td>13</td>\n",
       "      <td>1</td>\n",
       "      <td>23</td>\n",
       "      <td>1</td>\n",
       "      <td>0</td>\n",
       "      <td>0</td>\n",
       "      <td>0</td>\n",
       "      <td>0</td>\n",
       "      <td>Severe</td>\n",
       "    </tr>\n",
       "    <tr>\n",
       "      <th>4</th>\n",
       "      <td>11</td>\n",
       "      <td>5</td>\n",
       "      <td>22</td>\n",
       "      <td>2</td>\n",
       "      <td>4</td>\n",
       "      <td>2</td>\n",
       "      <td>1</td>\n",
       "      <td>1</td>\n",
       "      <td>Moderate</td>\n",
       "    </tr>\n",
       "  </tbody>\n",
       "</table>\n",
       "</div>"
      ],
      "text/plain": [
       "   semester  friends  age  study_hours  music_hours  phone_hours  hangout  \\\n",
       "0         9        2   24            2            0            2        1   \n",
       "1        11        4   23            4            0            0        2   \n",
       "2         3        4   19            3            0            2        1   \n",
       "3        13        1   23            1            0            0        0   \n",
       "4        11        5   22            2            4            2        1   \n",
       "\n",
       "   social_events  category  \n",
       "0              3  Moderate  \n",
       "1              1      None  \n",
       "2              1    Severe  \n",
       "3              0    Severe  \n",
       "4              1  Moderate  "
      ]
     },
     "execution_count": 14,
     "metadata": {},
     "output_type": "execute_result"
    }
   ],
   "source": [
    "# Hobbies has multiple values, splitting hobbies in multiple columns\n",
    "\n",
    "# df['hobbies'] = df['hobbies'].str.lower()\n",
    "# df['hobbies'] = df['hobbies'].str.strip()\n",
    "# df['hobbies'] = df['hobbies'].str.replace(', ', ',')\n",
    "# df['hobbies'] = df['hobbies'].str.replace(' , ', ',')\n",
    "# df['hobbies'] = df['hobbies'].str.replace(' ,', ',')\n",
    "# for idx, row in df.iterrows():\n",
    "#     for hobby in row.hobbies.split(\",\"):\n",
    "#         df.loc[idx, hobby] = 1\n",
    "# df.fillna(0, inplace=True)\n",
    "# df = df.drop(columns = ['hobbies'])\n",
    "\n",
    "# renaming the columns\n",
    "\n",
    "# df.columns = [c.strip() for c in df.columns]\n",
    "# df.columns = [c.lower().replace(' ', '_') for c in df.columns]\n",
    "\n",
    "print(df.shape)\n",
    "df.head()"
   ]
  },
  {
   "cell_type": "code",
   "execution_count": 15,
   "id": "567c0727",
   "metadata": {},
   "outputs": [],
   "source": [
    "# movies_per_week columns has invalid values, selecting rows only with numeric values\n",
    "\n",
    "# df = df[df['movies_per_week'].astype(str).str.isdigit()]\n",
    "# df['movies_per_week'].value_counts()"
   ]
  },
  {
   "cell_type": "code",
   "execution_count": 16,
   "id": "02c6d036",
   "metadata": {},
   "outputs": [
    {
     "data": {
      "text/plain": [
       "<AxesSubplot:xlabel='category', ylabel='age'>"
      ]
     },
     "execution_count": 16,
     "metadata": {},
     "output_type": "execute_result"
    },
    {
     "data": {
      "image/png": "[encoded data removed]",
      "text/plain": [
       "<Figure size 576x432 with 1 Axes>"
      ]
     },
     "metadata": {},
     "output_type": "display_data"
    }
   ],
   "source": [
    "sns.boxplot(x='category', y='age', data=df)"
   ]
  },
  {
   "cell_type": "code",
   "execution_count": 17,
   "id": "1b5e63d1",
   "metadata": {},
   "outputs": [
    {
     "data": {
      "text/plain": [
       "<AxesSubplot:xlabel='category', ylabel='semester'>"
      ]
     },
     "execution_count": 17,
     "metadata": {},
     "output_type": "execute_result"
    },
    {
     "data": {
      "image/png": "[encoded data removed]",
      "text/plain": [
       "<Figure size 576x432 with 1 Axes>"
      ]
     },
     "metadata": {},
     "output_type": "display_data"
    }
   ],
   "source": [
    "sns.boxplot(x='category', y='semester', data=df)"
   ]
  },
  {
   "cell_type": "code",
   "execution_count": 18,
   "id": "27bb6781",
   "metadata": {},
   "outputs": [
    {
     "data": {
      "text/plain": [
       "<AxesSubplot:xlabel='category', ylabel='friends'>"
      ]
     },
     "execution_count": 18,
     "metadata": {},
     "output_type": "execute_result"
    },
    {
     "data": {
      "image/png": "[encoded data removed]",
      "text/plain": [
       "<Figure size 576x432 with 1 Axes>"
      ]
     },
     "metadata": {},
     "output_type": "display_data"
    }
   ],
   "source": [
    "sns.boxplot(x='category', y='friends', data=df)"
   ]
  },
  {
   "cell_type": "code",
   "execution_count": 19,
   "id": "996f3bf3",
   "metadata": {
    "pycharm": {
     "is_executing": true,
     "name": "#%%\n"
    }
   },
   "outputs": [
    {
     "name": "stdout",
     "output_type": "stream",
     "text": [
      "(704, 9)\n"
     ]
    }
   ],
   "source": [
    "# settin limits for for outliers from boxplot\n",
    "\n",
    "limit = {\n",
    "    'age': 28,\n",
    "    'semester': 20,\n",
    "    'friends': 9,\n",
    "}\n",
    "\n",
    "# drop rows where limit exceed for features\n",
    "for feature in limit:\n",
    "    index = df.index[df[feature] > limit[feature]].tolist()\n",
    "    df.drop(index = index, inplace = True)\n",
    "    \n",
    "print(df.shape)"
   ]
  },
  {
   "cell_type": "code",
   "execution_count": 20,
   "id": "65846d74",
   "metadata": {
    "pycharm": {
     "is_executing": true,
     "name": "#%%\n"
    }
   },
   "outputs": [
    {
     "data": {
      "text/plain": [
       "[]"
      ]
     },
     "execution_count": 20,
     "metadata": {},
     "output_type": "execute_result"
    }
   ],
   "source": [
    "# selecting categorical features\n",
    "\n",
    "cat_features = df.select_dtypes(exclude='number').columns.tolist()\n",
    "cat_features.remove('category')  # target column for category prediction\n",
    "cat_features"
   ]
  },
  {
   "cell_type": "code",
   "execution_count": 21,
   "id": "06ad13e5",
   "metadata": {
    "pycharm": {
     "is_executing": true,
     "name": "#%%\n"
    }
   },
   "outputs": [
    {
     "data": {
      "text/html": [
       "<div>\n",
       "<style scoped>\n",
       "    .dataframe tbody tr th:only-of-type {\n",
       "        vertical-align: middle;\n",
       "    }\n",
       "\n",
       "    .dataframe tbody tr th {\n",
       "        vertical-align: top;\n",
       "    }\n",
       "\n",
       "    .dataframe thead th {\n",
       "        text-align: right;\n",
       "    }\n",
       "</style>\n",
       "<table border=\"1\" class=\"dataframe\">\n",
       "  <thead>\n",
       "    <tr style=\"text-align: right;\">\n",
       "      <th></th>\n",
       "      <th>semester</th>\n",
       "      <th>friends</th>\n",
       "      <th>age</th>\n",
       "      <th>study_hours</th>\n",
       "      <th>music_hours</th>\n",
       "      <th>phone_hours</th>\n",
       "      <th>hangout</th>\n",
       "      <th>social_events</th>\n",
       "      <th>category</th>\n",
       "    </tr>\n",
       "  </thead>\n",
       "  <tbody>\n",
       "    <tr>\n",
       "      <th>0</th>\n",
       "      <td>9</td>\n",
       "      <td>2</td>\n",
       "      <td>24</td>\n",
       "      <td>2</td>\n",
       "      <td>0</td>\n",
       "      <td>2</td>\n",
       "      <td>1</td>\n",
       "      <td>3</td>\n",
       "      <td>Moderate</td>\n",
       "    </tr>\n",
       "    <tr>\n",
       "      <th>1</th>\n",
       "      <td>11</td>\n",
       "      <td>4</td>\n",
       "      <td>23</td>\n",
       "      <td>4</td>\n",
       "      <td>0</td>\n",
       "      <td>0</td>\n",
       "      <td>2</td>\n",
       "      <td>1</td>\n",
       "      <td>None</td>\n",
       "    </tr>\n",
       "    <tr>\n",
       "      <th>2</th>\n",
       "      <td>3</td>\n",
       "      <td>4</td>\n",
       "      <td>19</td>\n",
       "      <td>3</td>\n",
       "      <td>0</td>\n",
       "      <td>2</td>\n",
       "      <td>1</td>\n",
       "      <td>1</td>\n",
       "      <td>Severe</td>\n",
       "    </tr>\n",
       "    <tr>\n",
       "      <th>3</th>\n",
       "      <td>13</td>\n",
       "      <td>1</td>\n",
       "      <td>23</td>\n",
       "      <td>1</td>\n",
       "      <td>0</td>\n",
       "      <td>0</td>\n",
       "      <td>0</td>\n",
       "      <td>0</td>\n",
       "      <td>Severe</td>\n",
       "    </tr>\n",
       "    <tr>\n",
       "      <th>4</th>\n",
       "      <td>11</td>\n",
       "      <td>5</td>\n",
       "      <td>22</td>\n",
       "      <td>2</td>\n",
       "      <td>4</td>\n",
       "      <td>2</td>\n",
       "      <td>1</td>\n",
       "      <td>1</td>\n",
       "      <td>Moderate</td>\n",
       "    </tr>\n",
       "  </tbody>\n",
       "</table>\n",
       "</div>"
      ],
      "text/plain": [
       "   semester  friends  age  study_hours  music_hours  phone_hours  hangout  \\\n",
       "0         9        2   24            2            0            2        1   \n",
       "1        11        4   23            4            0            0        2   \n",
       "2         3        4   19            3            0            2        1   \n",
       "3        13        1   23            1            0            0        0   \n",
       "4        11        5   22            2            4            2        1   \n",
       "\n",
       "   social_events  category  \n",
       "0              3  Moderate  \n",
       "1              1      None  \n",
       "2              1    Severe  \n",
       "3              0    Severe  \n",
       "4              1  Moderate  "
      ]
     },
     "execution_count": 21,
     "metadata": {},
     "output_type": "execute_result"
    }
   ],
   "source": [
    "# convert categorical values to numeric representation\n",
    "\n",
    "df = pd.get_dummies(data = df, columns = cat_features)\n",
    "df.head()"
   ]
  },
  {
   "cell_type": "code",
   "execution_count": 22,
   "id": "b4b40cbc",
   "metadata": {
    "pycharm": {
     "is_executing": true,
     "name": "#%%\n"
    }
   },
   "outputs": [
    {
     "data": {
      "text/html": [
       "<div>\n",
       "<style scoped>\n",
       "    .dataframe tbody tr th:only-of-type {\n",
       "        vertical-align: middle;\n",
       "    }\n",
       "\n",
       "    .dataframe tbody tr th {\n",
       "        vertical-align: top;\n",
       "    }\n",
       "\n",
       "    .dataframe thead th {\n",
       "        text-align: right;\n",
       "    }\n",
       "</style>\n",
       "<table border=\"1\" class=\"dataframe\">\n",
       "  <thead>\n",
       "    <tr style=\"text-align: right;\">\n",
       "      <th></th>\n",
       "      <th>semester</th>\n",
       "      <th>friends</th>\n",
       "      <th>age</th>\n",
       "      <th>study_hours</th>\n",
       "      <th>music_hours</th>\n",
       "      <th>phone_hours</th>\n",
       "      <th>hangout</th>\n",
       "      <th>social_events</th>\n",
       "    </tr>\n",
       "  </thead>\n",
       "  <tbody>\n",
       "    <tr>\n",
       "      <th>count</th>\n",
       "      <td>704.000000</td>\n",
       "      <td>704.000000</td>\n",
       "      <td>704.000000</td>\n",
       "      <td>704.000000</td>\n",
       "      <td>704.000000</td>\n",
       "      <td>704.000000</td>\n",
       "      <td>704.000000</td>\n",
       "      <td>704.000000</td>\n",
       "    </tr>\n",
       "    <tr>\n",
       "      <th>mean</th>\n",
       "      <td>7.779830</td>\n",
       "      <td>3.071023</td>\n",
       "      <td>22.441761</td>\n",
       "      <td>2.816761</td>\n",
       "      <td>1.713068</td>\n",
       "      <td>1.558239</td>\n",
       "      <td>1.367898</td>\n",
       "      <td>1.130682</td>\n",
       "    </tr>\n",
       "    <tr>\n",
       "      <th>std</th>\n",
       "      <td>3.870756</td>\n",
       "      <td>2.068682</td>\n",
       "      <td>1.822732</td>\n",
       "      <td>2.220864</td>\n",
       "      <td>1.861506</td>\n",
       "      <td>0.983225</td>\n",
       "      <td>0.841419</td>\n",
       "      <td>0.856717</td>\n",
       "    </tr>\n",
       "    <tr>\n",
       "      <th>min</th>\n",
       "      <td>1.000000</td>\n",
       "      <td>0.000000</td>\n",
       "      <td>17.000000</td>\n",
       "      <td>0.000000</td>\n",
       "      <td>0.000000</td>\n",
       "      <td>0.000000</td>\n",
       "      <td>0.000000</td>\n",
       "      <td>0.000000</td>\n",
       "    </tr>\n",
       "    <tr>\n",
       "      <th>25%</th>\n",
       "      <td>5.000000</td>\n",
       "      <td>2.000000</td>\n",
       "      <td>21.000000</td>\n",
       "      <td>1.000000</td>\n",
       "      <td>1.000000</td>\n",
       "      <td>1.000000</td>\n",
       "      <td>1.000000</td>\n",
       "      <td>1.000000</td>\n",
       "    </tr>\n",
       "    <tr>\n",
       "      <th>50%</th>\n",
       "      <td>8.000000</td>\n",
       "      <td>3.000000</td>\n",
       "      <td>22.000000</td>\n",
       "      <td>2.000000</td>\n",
       "      <td>1.000000</td>\n",
       "      <td>1.000000</td>\n",
       "      <td>1.000000</td>\n",
       "      <td>1.000000</td>\n",
       "    </tr>\n",
       "    <tr>\n",
       "      <th>75%</th>\n",
       "      <td>11.000000</td>\n",
       "      <td>5.000000</td>\n",
       "      <td>24.000000</td>\n",
       "      <td>4.000000</td>\n",
       "      <td>2.000000</td>\n",
       "      <td>2.000000</td>\n",
       "      <td>2.000000</td>\n",
       "      <td>1.000000</td>\n",
       "    </tr>\n",
       "    <tr>\n",
       "      <th>max</th>\n",
       "      <td>20.000000</td>\n",
       "      <td>9.000000</td>\n",
       "      <td>28.000000</td>\n",
       "      <td>10.000000</td>\n",
       "      <td>10.000000</td>\n",
       "      <td>3.000000</td>\n",
       "      <td>3.000000</td>\n",
       "      <td>3.000000</td>\n",
       "    </tr>\n",
       "  </tbody>\n",
       "</table>\n",
       "</div>"
      ],
      "text/plain": [
       "         semester     friends         age  study_hours  music_hours  \\\n",
       "count  704.000000  704.000000  704.000000   704.000000   704.000000   \n",
       "mean     7.779830    3.071023   22.441761     2.816761     1.713068   \n",
       "std      3.870756    2.068682    1.822732     2.220864     1.861506   \n",
       "min      1.000000    0.000000   17.000000     0.000000     0.000000   \n",
       "25%      5.000000    2.000000   21.000000     1.000000     1.000000   \n",
       "50%      8.000000    3.000000   22.000000     2.000000     1.000000   \n",
       "75%     11.000000    5.000000   24.000000     4.000000     2.000000   \n",
       "max     20.000000    9.000000   28.000000    10.000000    10.000000   \n",
       "\n",
       "       phone_hours     hangout  social_events  \n",
       "count   704.000000  704.000000     704.000000  \n",
       "mean      1.558239    1.367898       1.130682  \n",
       "std       0.983225    0.841419       0.856717  \n",
       "min       0.000000    0.000000       0.000000  \n",
       "25%       1.000000    1.000000       1.000000  \n",
       "50%       1.000000    1.000000       1.000000  \n",
       "75%       2.000000    2.000000       1.000000  \n",
       "max       3.000000    3.000000       3.000000  "
      ]
     },
     "execution_count": 22,
     "metadata": {},
     "output_type": "execute_result"
    }
   ],
   "source": [
    "df.describe()"
   ]
  },
  {
   "cell_type": "markdown",
   "id": "87003f17",
   "metadata": {},
   "source": [
    "# Feature Scaling"
   ]
  },
  {
   "cell_type": "code",
   "execution_count": 23,
   "id": "a0256741",
   "metadata": {
    "pycharm": {
     "is_executing": true,
     "name": "#%%\n"
    }
   },
   "outputs": [
    {
     "name": "stdout",
     "output_type": "stream",
     "text": [
      "(704, 8)\n"
     ]
    },
    {
     "data": {
      "text/html": [
       "<div>\n",
       "<style scoped>\n",
       "    .dataframe tbody tr th:only-of-type {\n",
       "        vertical-align: middle;\n",
       "    }\n",
       "\n",
       "    .dataframe tbody tr th {\n",
       "        vertical-align: top;\n",
       "    }\n",
       "\n",
       "    .dataframe thead th {\n",
       "        text-align: right;\n",
       "    }\n",
       "</style>\n",
       "<table border=\"1\" class=\"dataframe\">\n",
       "  <thead>\n",
       "    <tr style=\"text-align: right;\">\n",
       "      <th></th>\n",
       "      <th>semester</th>\n",
       "      <th>friends</th>\n",
       "      <th>age</th>\n",
       "      <th>study_hours</th>\n",
       "      <th>music_hours</th>\n",
       "      <th>phone_hours</th>\n",
       "      <th>hangout</th>\n",
       "      <th>social_events</th>\n",
       "    </tr>\n",
       "  </thead>\n",
       "  <tbody>\n",
       "    <tr>\n",
       "      <th>0</th>\n",
       "      <td>9</td>\n",
       "      <td>2</td>\n",
       "      <td>24</td>\n",
       "      <td>2</td>\n",
       "      <td>0</td>\n",
       "      <td>2</td>\n",
       "      <td>1</td>\n",
       "      <td>3</td>\n",
       "    </tr>\n",
       "    <tr>\n",
       "      <th>1</th>\n",
       "      <td>11</td>\n",
       "      <td>4</td>\n",
       "      <td>23</td>\n",
       "      <td>4</td>\n",
       "      <td>0</td>\n",
       "      <td>0</td>\n",
       "      <td>2</td>\n",
       "      <td>1</td>\n",
       "    </tr>\n",
       "    <tr>\n",
       "      <th>2</th>\n",
       "      <td>3</td>\n",
       "      <td>4</td>\n",
       "      <td>19</td>\n",
       "      <td>3</td>\n",
       "      <td>0</td>\n",
       "      <td>2</td>\n",
       "      <td>1</td>\n",
       "      <td>1</td>\n",
       "    </tr>\n",
       "    <tr>\n",
       "      <th>3</th>\n",
       "      <td>13</td>\n",
       "      <td>1</td>\n",
       "      <td>23</td>\n",
       "      <td>1</td>\n",
       "      <td>0</td>\n",
       "      <td>0</td>\n",
       "      <td>0</td>\n",
       "      <td>0</td>\n",
       "    </tr>\n",
       "    <tr>\n",
       "      <th>4</th>\n",
       "      <td>11</td>\n",
       "      <td>5</td>\n",
       "      <td>22</td>\n",
       "      <td>2</td>\n",
       "      <td>4</td>\n",
       "      <td>2</td>\n",
       "      <td>1</td>\n",
       "      <td>1</td>\n",
       "    </tr>\n",
       "  </tbody>\n",
       "</table>\n",
       "</div>"
      ],
      "text/plain": [
       "   semester  friends  age  study_hours  music_hours  phone_hours  hangout  \\\n",
       "0         9        2   24            2            0            2        1   \n",
       "1        11        4   23            4            0            0        2   \n",
       "2         3        4   19            3            0            2        1   \n",
       "3        13        1   23            1            0            0        0   \n",
       "4        11        5   22            2            4            2        1   \n",
       "\n",
       "   social_events  \n",
       "0              3  \n",
       "1              1  \n",
       "2              1  \n",
       "3              0  \n",
       "4              1  "
      ]
     },
     "execution_count": 23,
     "metadata": {},
     "output_type": "execute_result"
    }
   ],
   "source": [
    "# feature-target splitting\n",
    "\n",
    "X = df.drop(columns = ['category', ]) # X contains the features \n",
    "y = df['category']  # y contains target\n",
    "print(X.shape)\n",
    "X.head()"
   ]
  },
  {
   "cell_type": "code",
   "execution_count": 24,
   "id": "eec6deeb",
   "metadata": {
    "pycharm": {
     "is_executing": true,
     "name": "#%%\n"
    }
   },
   "outputs": [
    {
     "data": {
      "text/html": [
       "<div>\n",
       "<style scoped>\n",
       "    .dataframe tbody tr th:only-of-type {\n",
       "        vertical-align: middle;\n",
       "    }\n",
       "\n",
       "    .dataframe tbody tr th {\n",
       "        vertical-align: top;\n",
       "    }\n",
       "\n",
       "    .dataframe thead th {\n",
       "        text-align: right;\n",
       "    }\n",
       "</style>\n",
       "<table border=\"1\" class=\"dataframe\">\n",
       "  <thead>\n",
       "    <tr style=\"text-align: right;\">\n",
       "      <th></th>\n",
       "      <th>semester</th>\n",
       "      <th>friends</th>\n",
       "      <th>age</th>\n",
       "      <th>study_hours</th>\n",
       "      <th>music_hours</th>\n",
       "      <th>phone_hours</th>\n",
       "      <th>hangout</th>\n",
       "      <th>social_events</th>\n",
       "    </tr>\n",
       "  </thead>\n",
       "  <tbody>\n",
       "    <tr>\n",
       "      <th>count</th>\n",
       "      <td>704.000000</td>\n",
       "      <td>704.000000</td>\n",
       "      <td>704.000000</td>\n",
       "      <td>704.000000</td>\n",
       "      <td>704.000000</td>\n",
       "      <td>704.000000</td>\n",
       "      <td>704.000000</td>\n",
       "      <td>704.000000</td>\n",
       "    </tr>\n",
       "    <tr>\n",
       "      <th>mean</th>\n",
       "      <td>7.779830</td>\n",
       "      <td>3.071023</td>\n",
       "      <td>22.441761</td>\n",
       "      <td>2.816761</td>\n",
       "      <td>1.713068</td>\n",
       "      <td>1.558239</td>\n",
       "      <td>1.367898</td>\n",
       "      <td>1.130682</td>\n",
       "    </tr>\n",
       "    <tr>\n",
       "      <th>std</th>\n",
       "      <td>3.870756</td>\n",
       "      <td>2.068682</td>\n",
       "      <td>1.822732</td>\n",
       "      <td>2.220864</td>\n",
       "      <td>1.861506</td>\n",
       "      <td>0.983225</td>\n",
       "      <td>0.841419</td>\n",
       "      <td>0.856717</td>\n",
       "    </tr>\n",
       "    <tr>\n",
       "      <th>min</th>\n",
       "      <td>1.000000</td>\n",
       "      <td>0.000000</td>\n",
       "      <td>17.000000</td>\n",
       "      <td>0.000000</td>\n",
       "      <td>0.000000</td>\n",
       "      <td>0.000000</td>\n",
       "      <td>0.000000</td>\n",
       "      <td>0.000000</td>\n",
       "    </tr>\n",
       "    <tr>\n",
       "      <th>25%</th>\n",
       "      <td>5.000000</td>\n",
       "      <td>2.000000</td>\n",
       "      <td>21.000000</td>\n",
       "      <td>1.000000</td>\n",
       "      <td>1.000000</td>\n",
       "      <td>1.000000</td>\n",
       "      <td>1.000000</td>\n",
       "      <td>1.000000</td>\n",
       "    </tr>\n",
       "    <tr>\n",
       "      <th>50%</th>\n",
       "      <td>8.000000</td>\n",
       "      <td>3.000000</td>\n",
       "      <td>22.000000</td>\n",
       "      <td>2.000000</td>\n",
       "      <td>1.000000</td>\n",
       "      <td>1.000000</td>\n",
       "      <td>1.000000</td>\n",
       "      <td>1.000000</td>\n",
       "    </tr>\n",
       "    <tr>\n",
       "      <th>75%</th>\n",
       "      <td>11.000000</td>\n",
       "      <td>5.000000</td>\n",
       "      <td>24.000000</td>\n",
       "      <td>4.000000</td>\n",
       "      <td>2.000000</td>\n",
       "      <td>2.000000</td>\n",
       "      <td>2.000000</td>\n",
       "      <td>1.000000</td>\n",
       "    </tr>\n",
       "    <tr>\n",
       "      <th>max</th>\n",
       "      <td>20.000000</td>\n",
       "      <td>9.000000</td>\n",
       "      <td>28.000000</td>\n",
       "      <td>10.000000</td>\n",
       "      <td>10.000000</td>\n",
       "      <td>3.000000</td>\n",
       "      <td>3.000000</td>\n",
       "      <td>3.000000</td>\n",
       "    </tr>\n",
       "  </tbody>\n",
       "</table>\n",
       "</div>"
      ],
      "text/plain": [
       "         semester     friends         age  study_hours  music_hours  \\\n",
       "count  704.000000  704.000000  704.000000   704.000000   704.000000   \n",
       "mean     7.779830    3.071023   22.441761     2.816761     1.713068   \n",
       "std      3.870756    2.068682    1.822732     2.220864     1.861506   \n",
       "min      1.000000    0.000000   17.000000     0.000000     0.000000   \n",
       "25%      5.000000    2.000000   21.000000     1.000000     1.000000   \n",
       "50%      8.000000    3.000000   22.000000     2.000000     1.000000   \n",
       "75%     11.000000    5.000000   24.000000     4.000000     2.000000   \n",
       "max     20.000000    9.000000   28.000000    10.000000    10.000000   \n",
       "\n",
       "       phone_hours     hangout  social_events  \n",
       "count   704.000000  704.000000     704.000000  \n",
       "mean      1.558239    1.367898       1.130682  \n",
       "std       0.983225    0.841419       0.856717  \n",
       "min       0.000000    0.000000       0.000000  \n",
       "25%       1.000000    1.000000       1.000000  \n",
       "50%       1.000000    1.000000       1.000000  \n",
       "75%       2.000000    2.000000       1.000000  \n",
       "max       3.000000    3.000000       3.000000  "
      ]
     },
     "execution_count": 24,
     "metadata": {},
     "output_type": "execute_result"
    }
   ],
   "source": [
    "X.describe()"
   ]
  },
  {
   "cell_type": "code",
   "execution_count": 25,
   "id": "2ecf1bac",
   "metadata": {
    "pycharm": {
     "is_executing": true,
     "name": "#%%\n"
    }
   },
   "outputs": [
    {
     "data": {
      "text/plain": [
       "['semester',\n",
       " 'friends',\n",
       " 'age',\n",
       " 'study_hours',\n",
       " 'music_hours',\n",
       " 'phone_hours',\n",
       " 'hangout',\n",
       " 'social_events']"
      ]
     },
     "execution_count": 25,
     "metadata": {},
     "output_type": "execute_result"
    }
   ],
   "source": [
    "scale_vars = []\n",
    "for cols in X.columns:\n",
    "    if X[cols].dtype == np.int64 and X[cols].max() > 1:\n",
    "        scale_vars.append(cols)\n",
    "scale_vars"
   ]
  },
  {
   "cell_type": "code",
   "execution_count": 26,
   "id": "bed35217",
   "metadata": {
    "pycharm": {
     "is_executing": true,
     "name": "#%%\n"
    }
   },
   "outputs": [
    {
     "name": "stdout",
     "output_type": "stream",
     "text": [
      "(598, 8)\n",
      "(106, 8)\n"
     ]
    },
    {
     "data": {
      "text/html": [
       "<div>\n",
       "<style scoped>\n",
       "    .dataframe tbody tr th:only-of-type {\n",
       "        vertical-align: middle;\n",
       "    }\n",
       "\n",
       "    .dataframe tbody tr th {\n",
       "        vertical-align: top;\n",
       "    }\n",
       "\n",
       "    .dataframe thead th {\n",
       "        text-align: right;\n",
       "    }\n",
       "</style>\n",
       "<table border=\"1\" class=\"dataframe\">\n",
       "  <thead>\n",
       "    <tr style=\"text-align: right;\">\n",
       "      <th></th>\n",
       "      <th>semester</th>\n",
       "      <th>friends</th>\n",
       "      <th>age</th>\n",
       "      <th>study_hours</th>\n",
       "      <th>music_hours</th>\n",
       "      <th>phone_hours</th>\n",
       "      <th>hangout</th>\n",
       "      <th>social_events</th>\n",
       "    </tr>\n",
       "  </thead>\n",
       "  <tbody>\n",
       "    <tr>\n",
       "      <th>98</th>\n",
       "      <td>6</td>\n",
       "      <td>3</td>\n",
       "      <td>24</td>\n",
       "      <td>5</td>\n",
       "      <td>1</td>\n",
       "      <td>3</td>\n",
       "      <td>1</td>\n",
       "      <td>1</td>\n",
       "    </tr>\n",
       "    <tr>\n",
       "      <th>724</th>\n",
       "      <td>4</td>\n",
       "      <td>5</td>\n",
       "      <td>21</td>\n",
       "      <td>1</td>\n",
       "      <td>1</td>\n",
       "      <td>2</td>\n",
       "      <td>1</td>\n",
       "      <td>1</td>\n",
       "    </tr>\n",
       "    <tr>\n",
       "      <th>188</th>\n",
       "      <td>2</td>\n",
       "      <td>5</td>\n",
       "      <td>25</td>\n",
       "      <td>6</td>\n",
       "      <td>1</td>\n",
       "      <td>0</td>\n",
       "      <td>1</td>\n",
       "      <td>1</td>\n",
       "    </tr>\n",
       "    <tr>\n",
       "      <th>303</th>\n",
       "      <td>12</td>\n",
       "      <td>2</td>\n",
       "      <td>23</td>\n",
       "      <td>7</td>\n",
       "      <td>8</td>\n",
       "      <td>0</td>\n",
       "      <td>2</td>\n",
       "      <td>2</td>\n",
       "    </tr>\n",
       "    <tr>\n",
       "      <th>496</th>\n",
       "      <td>7</td>\n",
       "      <td>3</td>\n",
       "      <td>22</td>\n",
       "      <td>2</td>\n",
       "      <td>1</td>\n",
       "      <td>1</td>\n",
       "      <td>2</td>\n",
       "      <td>1</td>\n",
       "    </tr>\n",
       "  </tbody>\n",
       "</table>\n",
       "</div>"
      ],
      "text/plain": [
       "     semester  friends  age  study_hours  music_hours  phone_hours  hangout  \\\n",
       "98          6        3   24            5            1            3        1   \n",
       "724         4        5   21            1            1            2        1   \n",
       "188         2        5   25            6            1            0        1   \n",
       "303        12        2   23            7            8            0        2   \n",
       "496         7        3   22            2            1            1        2   \n",
       "\n",
       "     social_events  \n",
       "98               1  \n",
       "724              1  \n",
       "188              1  \n",
       "303              2  \n",
       "496              1  "
      ]
     },
     "execution_count": 26,
     "metadata": {},
     "output_type": "execute_result"
    }
   ],
   "source": [
    "from sklearn.model_selection import train_test_split\n",
    "\n",
    "X_train, X_test, y_train, y_test = train_test_split(X, y, test_size = 0.15, random_state = 20)\n",
    "print(X_train.shape)\n",
    "print(X_test.shape)\n",
    "X_train.head()"
   ]
  },
  {
   "cell_type": "code",
   "execution_count": 27,
   "id": "8d4b5515",
   "metadata": {
    "pycharm": {
     "is_executing": true
    }
   },
   "outputs": [],
   "source": [
    "# # Using SMOTE\n",
    "\n",
    "# from imblearn.over_sampling import SMOTE, RandomOverSampler\n",
    "# smt = SMOTE(random_state=12)\n",
    "# print(collections.Counter(y_train))\n",
    "# X_train, y_train = smt.fit_resample(X_train, y_train)\n",
    "# print(collections.Counter(y_train))\n",
    "\n",
    "# print(collections.Counter(y_train))\n",
    "# ros = RandomOverSampler(random_state=42)\n",
    "# X_train, y_train = ros.fit_resample(X_train, y_train)\n",
    "# print(collections.Counter(y_train))"
   ]
  },
  {
   "cell_type": "code",
   "execution_count": 28,
   "id": "c1af1d8e",
   "metadata": {
    "pycharm": {
     "is_executing": true,
     "name": "#%%\n"
    }
   },
   "outputs": [],
   "source": [
    "# using min_max scaler to scale features\n",
    "\n",
    "from sklearn.preprocessing import MinMaxScaler\n",
    "\n",
    "scaler = MinMaxScaler()\n",
    "\n",
    "scaler.fit(X_train[scale_vars])\n",
    "X_train[scale_vars] = scaler.transform(X_train[scale_vars])\n",
    "X_test[scale_vars] = scaler.transform(X_test[scale_vars])"
   ]
  },
  {
   "cell_type": "code",
   "execution_count": 29,
   "id": "8c0e51a2",
   "metadata": {
    "pycharm": {
     "is_executing": true,
     "name": "#%%\n"
    }
   },
   "outputs": [
    {
     "data": {
      "text/html": [
       "<div>\n",
       "<style scoped>\n",
       "    .dataframe tbody tr th:only-of-type {\n",
       "        vertical-align: middle;\n",
       "    }\n",
       "\n",
       "    .dataframe tbody tr th {\n",
       "        vertical-align: top;\n",
       "    }\n",
       "\n",
       "    .dataframe thead th {\n",
       "        text-align: right;\n",
       "    }\n",
       "</style>\n",
       "<table border=\"1\" class=\"dataframe\">\n",
       "  <thead>\n",
       "    <tr style=\"text-align: right;\">\n",
       "      <th></th>\n",
       "      <th>semester</th>\n",
       "      <th>friends</th>\n",
       "      <th>age</th>\n",
       "      <th>study_hours</th>\n",
       "      <th>music_hours</th>\n",
       "      <th>phone_hours</th>\n",
       "      <th>hangout</th>\n",
       "      <th>social_events</th>\n",
       "    </tr>\n",
       "  </thead>\n",
       "  <tbody>\n",
       "    <tr>\n",
       "      <th>98</th>\n",
       "      <td>0.263158</td>\n",
       "      <td>0.333333</td>\n",
       "      <td>0.636364</td>\n",
       "      <td>0.5</td>\n",
       "      <td>0.1</td>\n",
       "      <td>1.000000</td>\n",
       "      <td>0.333333</td>\n",
       "      <td>0.333333</td>\n",
       "    </tr>\n",
       "    <tr>\n",
       "      <th>724</th>\n",
       "      <td>0.157895</td>\n",
       "      <td>0.555556</td>\n",
       "      <td>0.363636</td>\n",
       "      <td>0.1</td>\n",
       "      <td>0.1</td>\n",
       "      <td>0.666667</td>\n",
       "      <td>0.333333</td>\n",
       "      <td>0.333333</td>\n",
       "    </tr>\n",
       "    <tr>\n",
       "      <th>188</th>\n",
       "      <td>0.052632</td>\n",
       "      <td>0.555556</td>\n",
       "      <td>0.727273</td>\n",
       "      <td>0.6</td>\n",
       "      <td>0.1</td>\n",
       "      <td>0.000000</td>\n",
       "      <td>0.333333</td>\n",
       "      <td>0.333333</td>\n",
       "    </tr>\n",
       "    <tr>\n",
       "      <th>303</th>\n",
       "      <td>0.578947</td>\n",
       "      <td>0.222222</td>\n",
       "      <td>0.545455</td>\n",
       "      <td>0.7</td>\n",
       "      <td>0.8</td>\n",
       "      <td>0.000000</td>\n",
       "      <td>0.666667</td>\n",
       "      <td>0.666667</td>\n",
       "    </tr>\n",
       "    <tr>\n",
       "      <th>496</th>\n",
       "      <td>0.315789</td>\n",
       "      <td>0.333333</td>\n",
       "      <td>0.454545</td>\n",
       "      <td>0.2</td>\n",
       "      <td>0.1</td>\n",
       "      <td>0.333333</td>\n",
       "      <td>0.666667</td>\n",
       "      <td>0.333333</td>\n",
       "    </tr>\n",
       "  </tbody>\n",
       "</table>\n",
       "</div>"
      ],
      "text/plain": [
       "     semester   friends       age  study_hours  music_hours  phone_hours  \\\n",
       "98   0.263158  0.333333  0.636364          0.5          0.1     1.000000   \n",
       "724  0.157895  0.555556  0.363636          0.1          0.1     0.666667   \n",
       "188  0.052632  0.555556  0.727273          0.6          0.1     0.000000   \n",
       "303  0.578947  0.222222  0.545455          0.7          0.8     0.000000   \n",
       "496  0.315789  0.333333  0.454545          0.2          0.1     0.333333   \n",
       "\n",
       "      hangout  social_events  \n",
       "98   0.333333       0.333333  \n",
       "724  0.333333       0.333333  \n",
       "188  0.333333       0.333333  \n",
       "303  0.666667       0.666667  \n",
       "496  0.666667       0.333333  "
      ]
     },
     "execution_count": 29,
     "metadata": {},
     "output_type": "execute_result"
    }
   ],
   "source": [
    "X_train.head()"
   ]
  },
  {
   "cell_type": "code",
   "execution_count": 30,
   "id": "834988e6",
   "metadata": {
    "pycharm": {
     "is_executing": true,
     "name": "#%%\n"
    }
   },
   "outputs": [
    {
     "data": {
      "text/html": [
       "<div>\n",
       "<style scoped>\n",
       "    .dataframe tbody tr th:only-of-type {\n",
       "        vertical-align: middle;\n",
       "    }\n",
       "\n",
       "    .dataframe tbody tr th {\n",
       "        vertical-align: top;\n",
       "    }\n",
       "\n",
       "    .dataframe thead th {\n",
       "        text-align: right;\n",
       "    }\n",
       "</style>\n",
       "<table border=\"1\" class=\"dataframe\">\n",
       "  <thead>\n",
       "    <tr style=\"text-align: right;\">\n",
       "      <th></th>\n",
       "      <th>semester</th>\n",
       "      <th>friends</th>\n",
       "      <th>age</th>\n",
       "      <th>study_hours</th>\n",
       "      <th>music_hours</th>\n",
       "      <th>phone_hours</th>\n",
       "      <th>hangout</th>\n",
       "      <th>social_events</th>\n",
       "    </tr>\n",
       "  </thead>\n",
       "  <tbody>\n",
       "    <tr>\n",
       "      <th>413</th>\n",
       "      <td>0.052632</td>\n",
       "      <td>0.000000</td>\n",
       "      <td>0.363636</td>\n",
       "      <td>0.2</td>\n",
       "      <td>0.1</td>\n",
       "      <td>1.000000</td>\n",
       "      <td>0.333333</td>\n",
       "      <td>1.000000</td>\n",
       "    </tr>\n",
       "    <tr>\n",
       "      <th>538</th>\n",
       "      <td>0.578947</td>\n",
       "      <td>0.000000</td>\n",
       "      <td>0.727273</td>\n",
       "      <td>0.0</td>\n",
       "      <td>0.0</td>\n",
       "      <td>0.666667</td>\n",
       "      <td>0.333333</td>\n",
       "      <td>0.666667</td>\n",
       "    </tr>\n",
       "    <tr>\n",
       "      <th>426</th>\n",
       "      <td>0.000000</td>\n",
       "      <td>0.444444</td>\n",
       "      <td>0.272727</td>\n",
       "      <td>0.3</td>\n",
       "      <td>0.5</td>\n",
       "      <td>0.333333</td>\n",
       "      <td>0.333333</td>\n",
       "      <td>0.000000</td>\n",
       "    </tr>\n",
       "    <tr>\n",
       "      <th>450</th>\n",
       "      <td>0.315789</td>\n",
       "      <td>0.333333</td>\n",
       "      <td>0.636364</td>\n",
       "      <td>0.1</td>\n",
       "      <td>0.0</td>\n",
       "      <td>0.333333</td>\n",
       "      <td>0.333333</td>\n",
       "      <td>0.666667</td>\n",
       "    </tr>\n",
       "    <tr>\n",
       "      <th>11</th>\n",
       "      <td>0.473684</td>\n",
       "      <td>0.333333</td>\n",
       "      <td>0.545455</td>\n",
       "      <td>0.4</td>\n",
       "      <td>0.2</td>\n",
       "      <td>0.333333</td>\n",
       "      <td>0.333333</td>\n",
       "      <td>0.666667</td>\n",
       "    </tr>\n",
       "  </tbody>\n",
       "</table>\n",
       "</div>"
      ],
      "text/plain": [
       "     semester   friends       age  study_hours  music_hours  phone_hours  \\\n",
       "413  0.052632  0.000000  0.363636          0.2          0.1     1.000000   \n",
       "538  0.578947  0.000000  0.727273          0.0          0.0     0.666667   \n",
       "426  0.000000  0.444444  0.272727          0.3          0.5     0.333333   \n",
       "450  0.315789  0.333333  0.636364          0.1          0.0     0.333333   \n",
       "11   0.473684  0.333333  0.545455          0.4          0.2     0.333333   \n",
       "\n",
       "      hangout  social_events  \n",
       "413  0.333333       1.000000  \n",
       "538  0.333333       0.666667  \n",
       "426  0.333333       0.000000  \n",
       "450  0.333333       0.666667  \n",
       "11   0.333333       0.666667  "
      ]
     },
     "execution_count": 30,
     "metadata": {},
     "output_type": "execute_result"
    }
   ],
   "source": [
    "X_test.head()"
   ]
  },
  {
   "cell_type": "markdown",
   "id": "c9f0d4e5",
   "metadata": {},
   "source": [
    "# Feature Selection"
   ]
  },
  {
   "cell_type": "code",
   "execution_count": 31,
   "id": "28746ac1",
   "metadata": {},
   "outputs": [
    {
     "data": {
      "image/jpeg": "[encoded data removed]",
      "text/plain": [
       "<IPython.core.display.Image object>"
      ]
     },
     "metadata": {},
     "output_type": "display_data"
    }
   ],
   "source": [
    "from PIL import Image\n",
    "from IPython.display import display, Image\n",
    "display(Image(filename='feature-selection-techniques.jpg'))"
   ]
  },
  {
   "cell_type": "code",
   "execution_count": 32,
   "id": "8cabedcb",
   "metadata": {},
   "outputs": [
    {
     "data": {
      "image/jpeg": "[encoded data removed]",
      "text/plain": [
       "<IPython.core.display.Image object>"
      ]
     },
     "metadata": {},
     "output_type": "display_data"
    }
   ],
   "source": [
    "display(Image(filename='data-variable-types.jpg'))"
   ]
  },
  {
   "cell_type": "code",
   "execution_count": 33,
   "id": "28cc9b81",
   "metadata": {},
   "outputs": [
    {
     "data": {
      "image/jpeg": "[encoded data removed]",
      "text/plain": [
       "<IPython.core.display.Image object>"
      ]
     },
     "metadata": {},
     "output_type": "display_data"
    }
   ],
   "source": [
    "display(Image(filename='how-to-choose.jpg'))"
   ]
  },
  {
   "cell_type": "markdown",
   "id": "0aa9feb8",
   "metadata": {},
   "source": [
    "## Applying Filter Methods"
   ]
  },
  {
   "cell_type": "code",
   "execution_count": 34,
   "id": "2a4c8647",
   "metadata": {
    "pycharm": {
     "is_executing": true,
     "name": "#%%\n"
    }
   },
   "outputs": [
    {
     "data": {
      "text/plain": [
       "[]"
      ]
     },
     "execution_count": 34,
     "metadata": {},
     "output_type": "execute_result"
    }
   ],
   "source": [
    "# Zero Variance\n",
    "\n",
    "featuresWithZeroVariance = []\n",
    "for cols in X_train.columns:\n",
    "    unique_vals = X_train[cols].unique()\n",
    "    if len(unique_vals) == 1:\n",
    "        featuresWithZeroVariance.append(cols)\n",
    "X_train = X_train.drop(columns = featuresWithZeroVariance)\n",
    "X_test = X_test.drop(columns = featuresWithZeroVariance)\n",
    "featuresWithZeroVariance"
   ]
  },
  {
   "cell_type": "code",
   "execution_count": 35,
   "id": "b8f67f97",
   "metadata": {
    "pycharm": {
     "is_executing": true,
     "name": "#%%\n"
    }
   },
   "outputs": [
    {
     "data": {
      "text/plain": [
       "<AxesSubplot:>"
      ]
     },
     "execution_count": 35,
     "metadata": {},
     "output_type": "execute_result"
    },
    {
     "data": {
      "image/png": "[encoded data removed]",
      "text/plain": [
       "<Figure size 864x720 with 2 Axes>"
      ]
     },
     "metadata": {},
     "output_type": "display_data"
    }
   ],
   "source": [
    "# Pearson's Correlation Coefficient\n",
    "\n",
    "corr = X_train.corr()\n",
    "mask1 = np.triu(np.ones_like(corr, dtype=bool))\n",
    "mask2 = np.tril(np.ones_like(corr, dtype=bool))\n",
    "plt.figure(figsize = (12,10))\n",
    "sns.heatmap(corr, annot = True, cmap = \"seismic\", mask = mask1)"
   ]
  },
  {
   "cell_type": "code",
   "execution_count": 36,
   "id": "d13c38ea",
   "metadata": {
    "pycharm": {
     "is_executing": true,
     "name": "#%%\n"
    }
   },
   "outputs": [],
   "source": [
    "# with the following function we can select highly correlated features\n",
    "# it will remove the first feature that is highly correlated with another feature\n",
    "\n",
    "def correlation(dataset, threshold):\n",
    "    col_corr = set() # Set of all the names of the redundant columns\n",
    "    corr_matrix = dataset.corr()\n",
    "    for i in range(len(corr_matrix.columns)):\n",
    "        for j in range(i):\n",
    "            if(abs(corr_matrix.iloc[i, j])) > threshold:\n",
    "                colname = corr_matrix.columns[i]\n",
    "                col_corr.add(colname)\n",
    "    return col_corr"
   ]
  },
  {
   "cell_type": "code",
   "execution_count": 37,
   "id": "781c8f41",
   "metadata": {
    "pycharm": {
     "is_executing": true,
     "name": "#%%\n"
    }
   },
   "outputs": [
    {
     "name": "stdout",
     "output_type": "stream",
     "text": [
      "0\n",
      "set()\n"
     ]
    }
   ],
   "source": [
    "corr_features = correlation(X_train, 0.85) # 85% is a good value of the threshold\n",
    "print(len(corr_features))\n",
    "print(corr_features)"
   ]
  },
  {
   "cell_type": "code",
   "execution_count": 38,
   "id": "e5f3bea1",
   "metadata": {
    "pycharm": {
     "is_executing": true,
     "name": "#%%\n"
    }
   },
   "outputs": [
    {
     "name": "stdout",
     "output_type": "stream",
     "text": [
      "(598, 8)\n",
      "(106, 8)\n"
     ]
    }
   ],
   "source": [
    "X_train = X_train.drop(columns = corr_features)\n",
    "X_test = X_test.drop(columns = corr_features)\n",
    "\n",
    "print(X_train.shape)\n",
    "print(X_test.shape)"
   ]
  },
  {
   "cell_type": "markdown",
   "id": "bc2e9b1d",
   "metadata": {},
   "source": [
    "## Applying Intrinsic Methods"
   ]
  },
  {
   "cell_type": "code",
   "execution_count": 39,
   "id": "59f3040c",
   "metadata": {},
   "outputs": [
    {
     "name": "stdout",
     "output_type": "stream",
     "text": [
      "        Features  Importances\n",
      "6        hangout     0.079893\n",
      "7  social_events     0.080079\n",
      "5    phone_hours     0.088688\n",
      "4    music_hours     0.128495\n",
      "2            age     0.136066\n",
      "3    study_hours     0.151027\n",
      "1        friends     0.155491\n",
      "0       semester     0.180260\n"
     ]
    },
    {
     "data": {
      "text/plain": [
       "<AxesSubplot:>"
      ]
     },
     "execution_count": 39,
     "metadata": {},
     "output_type": "execute_result"
    },
    {
     "data": {
      "image/png": "[encoded data removed]",
      "text/plain": [
       "<Figure size 576x432 with 1 Axes>"
      ]
     },
     "metadata": {},
     "output_type": "display_data"
    }
   ],
   "source": [
    "# Random Forest Importrance\n",
    "\n",
    "from sklearn.ensemble import RandomForestClassifier\n",
    "\n",
    "model = RandomForestClassifier(n_estimators=3400)\n",
    "\n",
    "model.fit(X_train, y_train)\n",
    "\n",
    "importances = model.feature_importances_\n",
    "\n",
    "final_df = pd.DataFrame({\n",
    "    \"Features\": X_train.columns,\n",
    "    \"Importances\": importances\n",
    "})\n",
    "\n",
    "final_df = final_df.sort_values('Importances')\n",
    "\n",
    "with open('result.txt', 'w') as fp:\n",
    "    fp.write(str(final_df))\n",
    "           \n",
    "print(final_df)\n",
    "final_df.head()\n",
    "\n",
    "final_df.plot.bar(color = 'teal')"
   ]
  },
  {
   "cell_type": "code",
   "execution_count": 40,
   "id": "c47c54b4",
   "metadata": {},
   "outputs": [
    {
     "name": "stdout",
     "output_type": "stream",
     "text": [
      "hangout\n",
      "social_events\n",
      "phone_hours\n",
      "music_hours\n",
      "age\n",
      "study_hours\n",
      "friends\n",
      "semester\n"
     ]
    }
   ],
   "source": [
    "final_features = []\n",
    "for index, row in final_df.iterrows():\n",
    "    if row['Importances'] >= 0.02:\n",
    "        print(row['Features'])\n",
    "        final_features.append(row['Features'])\n",
    "X_train = X_train[final_features]\n",
    "X_test = X_test[final_features]"
   ]
  },
  {
   "cell_type": "markdown",
   "id": "b1f5ccce",
   "metadata": {
    "pycharm": {
     "name": "#%% md\n"
    }
   },
   "source": [
    "# Model Creation and Evaluation(Predict Specific Category)"
   ]
  },
  {
   "cell_type": "code",
   "execution_count": 41,
   "id": "b2c9a2d6",
   "metadata": {},
   "outputs": [],
   "source": [
    "# importing classifiers\n",
    "\n",
    "from sklearn.model_selection import GridSearchCV, StratifiedKFold, cross_val_score\n",
    "from sklearn.metrics import accuracy_score, classification_report, plot_roc_curve\n",
    "from sklearn.linear_model import LogisticRegression, Perceptron\n",
    "from sklearn.ensemble import RandomForestClassifier\n",
    "from sklearn.neighbors import KNeighborsClassifier\n",
    "from sklearn.tree import DecisionTreeClassifier\n",
    "from sklearn.preprocessing import StandardScaler\n",
    "from sklearn.naive_bayes import MultinomialNB\n",
    "from sklearn.dummy import DummyClassifier\n",
    "from sklearn.pipeline import Pipeline\n",
    "from sklearn.decomposition import PCA\n",
    "from sklearn.svm import SVC\n",
    "from sklearn import metrics"
   ]
  },
  {
   "cell_type": "code",
   "execution_count": 42,
   "id": "8f75ab99",
   "metadata": {},
   "outputs": [
    {
     "name": "stdout",
     "output_type": "stream",
     "text": [
      "0.727436974789916\n",
      "{'dec_tree__criterion': 'entropy', 'dec_tree__max_depth': 2, 'pca__n_components': 2}\n"
     ]
    },
    {
     "data": {
      "text/html": [
       "<div>\n",
       "<style scoped>\n",
       "    .dataframe tbody tr th:only-of-type {\n",
       "        vertical-align: middle;\n",
       "    }\n",
       "\n",
       "    .dataframe tbody tr th {\n",
       "        vertical-align: top;\n",
       "    }\n",
       "\n",
       "    .dataframe thead th {\n",
       "        text-align: right;\n",
       "    }\n",
       "</style>\n",
       "<table border=\"1\" class=\"dataframe\">\n",
       "  <thead>\n",
       "    <tr style=\"text-align: right;\">\n",
       "      <th></th>\n",
       "      <th>mean_fit_time</th>\n",
       "      <th>std_fit_time</th>\n",
       "      <th>mean_score_time</th>\n",
       "      <th>std_score_time</th>\n",
       "      <th>param_dec_tree__criterion</th>\n",
       "      <th>param_dec_tree__max_depth</th>\n",
       "      <th>param_pca__n_components</th>\n",
       "      <th>params</th>\n",
       "      <th>split0_test_score</th>\n",
       "      <th>split1_test_score</th>\n",
       "      <th>split2_test_score</th>\n",
       "      <th>split3_test_score</th>\n",
       "      <th>split4_test_score</th>\n",
       "      <th>mean_test_score</th>\n",
       "      <th>std_test_score</th>\n",
       "      <th>rank_test_score</th>\n",
       "    </tr>\n",
       "  </thead>\n",
       "  <tbody>\n",
       "    <tr>\n",
       "      <th>0</th>\n",
       "      <td>0.005401</td>\n",
       "      <td>0.003308</td>\n",
       "      <td>0.001300</td>\n",
       "      <td>0.000245</td>\n",
       "      <td>gini</td>\n",
       "      <td>2</td>\n",
       "      <td>1</td>\n",
       "      <td>{'dec_tree__criterion': 'gini', 'dec_tree__max...</td>\n",
       "      <td>0.708333</td>\n",
       "      <td>0.725000</td>\n",
       "      <td>0.725</td>\n",
       "      <td>0.731092</td>\n",
       "      <td>0.722689</td>\n",
       "      <td>0.722423</td>\n",
       "      <td>0.007577</td>\n",
       "      <td>15</td>\n",
       "    </tr>\n",
       "    <tr>\n",
       "      <th>1</th>\n",
       "      <td>0.003200</td>\n",
       "      <td>0.000245</td>\n",
       "      <td>0.001200</td>\n",
       "      <td>0.000245</td>\n",
       "      <td>gini</td>\n",
       "      <td>2</td>\n",
       "      <td>2</td>\n",
       "      <td>{'dec_tree__criterion': 'gini', 'dec_tree__max...</td>\n",
       "      <td>0.725000</td>\n",
       "      <td>0.725000</td>\n",
       "      <td>0.725</td>\n",
       "      <td>0.722689</td>\n",
       "      <td>0.722689</td>\n",
       "      <td>0.724076</td>\n",
       "      <td>0.001132</td>\n",
       "      <td>5</td>\n",
       "    </tr>\n",
       "    <tr>\n",
       "      <th>2</th>\n",
       "      <td>0.003201</td>\n",
       "      <td>0.000400</td>\n",
       "      <td>0.001100</td>\n",
       "      <td>0.000201</td>\n",
       "      <td>gini</td>\n",
       "      <td>2</td>\n",
       "      <td>3</td>\n",
       "      <td>{'dec_tree__criterion': 'gini', 'dec_tree__max...</td>\n",
       "      <td>0.725000</td>\n",
       "      <td>0.716667</td>\n",
       "      <td>0.725</td>\n",
       "      <td>0.731092</td>\n",
       "      <td>0.731092</td>\n",
       "      <td>0.725770</td>\n",
       "      <td>0.005305</td>\n",
       "      <td>3</td>\n",
       "    </tr>\n",
       "    <tr>\n",
       "      <th>3</th>\n",
       "      <td>0.003401</td>\n",
       "      <td>0.000200</td>\n",
       "      <td>0.001200</td>\n",
       "      <td>0.000245</td>\n",
       "      <td>gini</td>\n",
       "      <td>2</td>\n",
       "      <td>4</td>\n",
       "      <td>{'dec_tree__criterion': 'gini', 'dec_tree__max...</td>\n",
       "      <td>0.708333</td>\n",
       "      <td>0.733333</td>\n",
       "      <td>0.700</td>\n",
       "      <td>0.731092</td>\n",
       "      <td>0.731092</td>\n",
       "      <td>0.720770</td>\n",
       "      <td>0.013835</td>\n",
       "      <td>17</td>\n",
       "    </tr>\n",
       "    <tr>\n",
       "      <th>4</th>\n",
       "      <td>0.003801</td>\n",
       "      <td>0.000510</td>\n",
       "      <td>0.001501</td>\n",
       "      <td>0.000316</td>\n",
       "      <td>gini</td>\n",
       "      <td>2</td>\n",
       "      <td>5</td>\n",
       "      <td>{'dec_tree__criterion': 'gini', 'dec_tree__max...</td>\n",
       "      <td>0.708333</td>\n",
       "      <td>0.733333</td>\n",
       "      <td>0.700</td>\n",
       "      <td>0.731092</td>\n",
       "      <td>0.731092</td>\n",
       "      <td>0.720770</td>\n",
       "      <td>0.013835</td>\n",
       "      <td>17</td>\n",
       "    </tr>\n",
       "  </tbody>\n",
       "</table>\n",
       "</div>"
      ],
      "text/plain": [
       "   mean_fit_time  std_fit_time  mean_score_time  std_score_time  \\\n",
       "0       0.005401      0.003308         0.001300        0.000245   \n",
       "1       0.003200      0.000245         0.001200        0.000245   \n",
       "2       0.003201      0.000400         0.001100        0.000201   \n",
       "3       0.003401      0.000200         0.001200        0.000245   \n",
       "4       0.003801      0.000510         0.001501        0.000316   \n",
       "\n",
       "  param_dec_tree__criterion param_dec_tree__max_depth param_pca__n_components  \\\n",
       "0                      gini                         2                       1   \n",
       "1                      gini                         2                       2   \n",
       "2                      gini                         2                       3   \n",
       "3                      gini                         2                       4   \n",
       "4                      gini                         2                       5   \n",
       "\n",
       "                                              params  split0_test_score  \\\n",
       "0  {'dec_tree__criterion': 'gini', 'dec_tree__max...           0.708333   \n",
       "1  {'dec_tree__criterion': 'gini', 'dec_tree__max...           0.725000   \n",
       "2  {'dec_tree__criterion': 'gini', 'dec_tree__max...           0.725000   \n",
       "3  {'dec_tree__criterion': 'gini', 'dec_tree__max...           0.708333   \n",
       "4  {'dec_tree__criterion': 'gini', 'dec_tree__max...           0.708333   \n",
       "\n",
       "   split1_test_score  split2_test_score  split3_test_score  split4_test_score  \\\n",
       "0           0.725000              0.725           0.731092           0.722689   \n",
       "1           0.725000              0.725           0.722689           0.722689   \n",
       "2           0.716667              0.725           0.731092           0.731092   \n",
       "3           0.733333              0.700           0.731092           0.731092   \n",
       "4           0.733333              0.700           0.731092           0.731092   \n",
       "\n",
       "   mean_test_score  std_test_score  rank_test_score  \n",
       "0         0.722423        0.007577               15  \n",
       "1         0.724076        0.001132                5  \n",
       "2         0.725770        0.005305                3  \n",
       "3         0.720770        0.013835               17  \n",
       "4         0.720770        0.013835               17  "
      ]
     },
     "execution_count": 42,
     "metadata": {},
     "output_type": "execute_result"
    }
   ],
   "source": [
    "# searcing for best parameters for DecisionTreeClassifier uisng GridSearchCV\n",
    "\n",
    "pca = PCA()\n",
    "std_slc = StandardScaler()\n",
    "dec_tree = DecisionTreeClassifier()\n",
    "\n",
    "pipe = Pipeline(steps=[('std_slc', std_slc),\n",
    "                           ('pca', pca),\n",
    "                           ('dec_tree', dec_tree)])\n",
    "\n",
    "n_components = list(range(1, X.shape[1] + 1, 1))\n",
    "criterion = ['gini', 'entropy']\n",
    "max_depth = np.arange(2, 12, 1)\n",
    "\n",
    "parameters = dict(pca__n_components=n_components,\n",
    "                  dec_tree__criterion=criterion,\n",
    "                  dec_tree__max_depth=max_depth)\n",
    "\n",
    "param_grid = {\n",
    "    'n_components': list(range(1, X.shape[1] + 1, 1)),\n",
    "    'criterion': ['gini', 'entropy'],\n",
    "    \"max_depth\": np.arange(2, 12, 1)\n",
    "}\n",
    "\n",
    "grid_search = GridSearchCV(pipe, parameters)\n",
    "grid_search.fit(X_train, y_train)\n",
    "cross_val_df = pd.DataFrame(grid_search.cv_results_)\n",
    "print(grid_search.best_score_)\n",
    "print(grid_search.best_params_)\n",
    "cross_val_df.head()"
   ]
  },
  {
   "cell_type": "code",
   "execution_count": 43,
   "id": "cdfb01f1",
   "metadata": {},
   "outputs": [
    {
     "name": "stdout",
     "output_type": "stream",
     "text": [
      "0.7291176470588235\n"
     ]
    },
    {
     "data": {
      "text/plain": [
       "{'metric': 'manhattan', 'n_neighbors': 13, 'weights': 'uniform'}"
      ]
     },
     "execution_count": 43,
     "metadata": {},
     "output_type": "execute_result"
    }
   ],
   "source": [
    "# searcing for best parameters for KNeighborsClassifier uisng GridSearchCV\n",
    "\n",
    "pca = PCA()\n",
    "std_slc = StandardScaler()\n",
    "dec_tree = KNeighborsClassifier()\n",
    "\n",
    "pipe = Pipeline(steps=[('std_slc', std_slc),\n",
    "                           ('pca', pca),\n",
    "                           ('dec_tree', dec_tree)])\n",
    "\n",
    "n_components = list(range(1, X.shape[1] + 1, 1))\n",
    "criterion = ['gini', 'entropy']\n",
    "max_depth = np.arange(2, 12, 1)\n",
    "\n",
    "parameters = dict(pca__n_components=n_components,\n",
    "                  dec_tree__criterion=criterion,\n",
    "                  dec_tree__max_depth=max_depth)\n",
    "\n",
    "param_grid = { \n",
    "    'n_neighbors' : list(range(1, 20, 1)),\n",
    "    'weights' : ['uniform','distance'],\n",
    "    'metric' : ['minkowski','euclidean','manhattan']\n",
    "}\n",
    "\n",
    "clf = GridSearchCV(estimator = KNeighborsClassifier(), param_grid=param_grid, cv = 5)\n",
    "clf.fit(X_train, y_train)\n",
    "print(clf.best_score_)\n",
    "clf.best_params_"
   ]
  },
  {
   "cell_type": "code",
   "execution_count": 44,
   "id": "17fc1b2d",
   "metadata": {
    "pycharm": {
     "is_executing": true,
     "name": "#%%\n"
    }
   },
   "outputs": [
    {
     "name": "stdout",
     "output_type": "stream",
     "text": [
      "Train Accuracy:  0.7274247491638796\n",
      "Test Accuracy:  0.7075471698113207\n",
      "              precision    recall  f1-score   support\n",
      "\n",
      "    Moderate       0.71      1.00      0.83        75\n",
      "        None       0.00      0.00      0.00        20\n",
      "      Severe       0.00      0.00      0.00        11\n",
      "\n",
      "    accuracy                           0.71       106\n",
      "   macro avg       0.24      0.33      0.28       106\n",
      "weighted avg       0.50      0.71      0.59       106\n",
      "\n"
     ]
    }
   ],
   "source": [
    "# ZeroR classifier\n",
    "\n",
    "clf = DummyClassifier(strategy = \"most_frequent\")\n",
    "clf.fit(X_train, y_train)\n",
    "y_pred_train = clf.predict(X_train)\n",
    "y_pred_test = clf.predict(X_test)\n",
    "print(\"Train Accuracy: \", accuracy_score(y_pred_train, y_train))\n",
    "print(\"Test Accuracy: \", accuracy_score(y_pred_test, y_test))\n",
    "print(classification_report(y_test, y_pred_test))"
   ]
  },
  {
   "cell_type": "code",
   "execution_count": 45,
   "id": "8a66ef5e",
   "metadata": {
    "pycharm": {
     "is_executing": true,
     "name": "#%%\n"
    }
   },
   "outputs": [
    {
     "name": "stdout",
     "output_type": "stream",
     "text": [
      "2\n",
      "Depth =  2 , Training Accuracy =  0.7274247491638796 , Test Accuracy =  0.7075471698113207 , Diff =  1.987757935255885  %\n",
      "Depth =  3 , Training Accuracy =  0.7307692307692307 , Test Accuracy =  0.7075471698113207 , Diff =  2.322206095791002  %\n",
      "Depth =  4 , Training Accuracy =  0.7408026755852842 , Test Accuracy =  0.7075471698113207 , Diff =  3.3255505773963523  %\n",
      "Depth =  5 , Training Accuracy =  0.7575250836120402 , Test Accuracy =  0.6886792452830188 , Diff =  6.884583832902136  %\n",
      "Depth =  6 , Training Accuracy =  0.782608695652174 , Test Accuracy =  0.6792452830188679 , Diff =  10.336341263330606  %\n",
      "Depth =  7 , Training Accuracy =  0.802675585284281 , Test Accuracy =  0.6792452830188679 , Diff =  12.343030226541307  %\n",
      "Depth =  8 , Training Accuracy =  0.8177257525083612 , Test Accuracy =  0.6792452830188679 , Diff =  13.848046948949333  %\n",
      "Depth =  9 , Training Accuracy =  0.8394648829431438 , Test Accuracy =  0.6698113207547169 , Diff =  16.965356218842686  %\n",
      "Depth =  10 , Training Accuracy =  0.8662207357859532 , Test Accuracy =  0.5943396226415094 , Diff =  27.188111314444374  %\n",
      "Depth =  15 , Training Accuracy =  0.9531772575250836 , Test Accuracy =  0.5471698113207547 , Diff =  40.60074462043289  %\n",
      "Depth =  20 , Training Accuracy =  0.9949832775919732 , Test Accuracy =  0.5377358490566038 , Diff =  45.724742853536945  %\n",
      "Depth =  25 , Training Accuracy =  1.0 , Test Accuracy =  0.5188679245283019 , Diff =  48.113207547169814  %\n",
      "Depth =  30 , Training Accuracy =  1.0 , Test Accuracy =  0.5377358490566038 , Diff =  46.22641509433962  %\n",
      "Depth =  35 , Training Accuracy =  1.0 , Test Accuracy =  0.5283018867924528 , Diff =  47.16981132075472  %\n",
      "Depth =  40 , Training Accuracy =  1.0 , Test Accuracy =  0.5377358490566038 , Diff =  46.22641509433962  %\n",
      "Depth =  45 , Training Accuracy =  1.0 , Test Accuracy =  0.5754716981132075 , Diff =  42.45283018867924  %\n",
      "Depth =  50 , Training Accuracy =  1.0 , Test Accuracy =  0.5283018867924528 , Diff =  47.16981132075472  %\n",
      "\n",
      "\n",
      "\n",
      "Best depth is  2\n",
      "              precision    recall  f1-score   support\n",
      "\n",
      "    Moderate       0.71      1.00      0.83        75\n",
      "        None       0.00      0.00      0.00        20\n",
      "      Severe       0.00      0.00      0.00        11\n",
      "\n",
      "    accuracy                           0.71       106\n",
      "   macro avg       0.24      0.33      0.28       106\n",
      "weighted avg       0.50      0.71      0.59       106\n",
      "\n"
     ]
    },
    {
     "data": {
      "text/plain": [
       "Text(0, 0.5, 'Accuracy')"
      ]
     },
     "execution_count": 45,
     "metadata": {},
     "output_type": "execute_result"
    },
    {
     "data": {
      "image/png": "[encoded data removed]",
      "text/plain": [
       "<Figure size 576x432 with 1 Axes>"
      ]
     },
     "metadata": {},
     "output_type": "display_data"
    }
   ],
   "source": [
    "# Decision Tree\n",
    "\n",
    "maxdepths = [2,3,4,5,6,7,8,9,10,15,20,25,30,35,40,45,50]\n",
    "trainAcc = np.zeros(len(maxdepths))\n",
    "testAcc = np.zeros(len(maxdepths))\n",
    "difference = 100.0\n",
    "best_depth = 0\n",
    "\n",
    "index = 0\n",
    "for depth in maxdepths:\n",
    "    clf = DecisionTreeClassifier(max_depth=depth)\n",
    "    clf = clf.fit(X_train, y_train)\n",
    "    y_predTrain = clf.predict(X_train)\n",
    "    y_predTest = clf.predict(X_test)\n",
    "    trainAcc[index] = accuracy_score(y_train, y_predTrain)\n",
    "    testAcc[index] = accuracy_score(y_test, y_predTest)\n",
    "    curr_difference = np.abs(trainAcc[index]-testAcc[index]) * 100.00\n",
    "    if curr_difference < difference:\n",
    "        difference = curr_difference\n",
    "        print(depth)\n",
    "        best_depth = depth\n",
    "    print(\"Depth = \", depth, \", Training Accuracy = \", trainAcc[index], \", Test Accuracy = \", testAcc[index],\n",
    "          \", Diff = \", curr_difference, \" %\")\n",
    "    index += 1\n",
    "\n",
    "print('\\n\\n')\n",
    "print('Best depth is ', best_depth)\n",
    "clf = DecisionTreeClassifier(max_depth=best_depth)\n",
    "clf = clf.fit(X_train, y_train)\n",
    "y_predTrain = clf.predict(X_train)\n",
    "y_predTest = clf.predict(X_test)\n",
    "print(classification_report(y_test, y_predTest))\n",
    "#########################################\n",
    "# Plot of training and test accuracies\n",
    "#########################################\n",
    "\n",
    "plt.plot(maxdepths,trainAcc,'ro-',maxdepths,testAcc,'bv--')\n",
    "plt.legend(['Training Accuracy','Test Accuracy'])\n",
    "plt.xlabel('Max depth')\n",
    "plt.ylabel('Accuracy')"
   ]
  },
  {
   "cell_type": "code",
   "execution_count": 46,
   "id": "db997595",
   "metadata": {
    "pycharm": {
     "is_executing": true
    }
   },
   "outputs": [
    {
     "name": "stdout",
     "output_type": "stream",
     "text": [
      "0.7201704545454546\n"
     ]
    }
   ],
   "source": [
    "skfold = StratifiedKFold(n_splits=2)\n",
    "clf = DecisionTreeClassifier(max_depth=3)\n",
    "results = cross_val_score(clf, X, y, cv = skfold)\n",
    "print(np.mean(results))"
   ]
  },
  {
   "cell_type": "code",
   "execution_count": 47,
   "id": "dc8043f4",
   "metadata": {
    "pycharm": {
     "is_executing": true,
     "name": "#%%\n"
    }
   },
   "outputs": [
    {
     "name": "stdout",
     "output_type": "stream",
     "text": [
      "K =  1 , Training Accuracy =  1.0  Test Accuracy =  0.5188679245283019 , Difference =  48.113207547169814 %\n",
      "K =  5 , Training Accuracy =  0.7357859531772575  Test Accuracy =  0.7075471698113207 , Difference =  2.823878336593677 %\n",
      "K =  10 , Training Accuracy =  0.7274247491638796  Test Accuracy =  0.6886792452830188 , Difference =  3.874550388086073 %\n",
      "K =  15 , Training Accuracy =  0.725752508361204  Test Accuracy =  0.7075471698113207 , Difference =  1.8205338549883265 %\n",
      "K =  20 , Training Accuracy =  0.7274247491638796  Test Accuracy =  0.7075471698113207 , Difference =  1.987757935255885 %\n",
      "K =  25 , Training Accuracy =  0.7274247491638796  Test Accuracy =  0.7075471698113207 , Difference =  1.987757935255885 %\n",
      "K =  30 , Training Accuracy =  0.7274247491638796  Test Accuracy =  0.7075471698113207 , Difference =  1.987757935255885 %\n"
     ]
    },
    {
     "data": {
      "image/png": "[encoded data removed]",
      "text/plain": [
       "<Figure size 576x432 with 1 Axes>"
      ]
     },
     "metadata": {},
     "output_type": "display_data"
    }
   ],
   "source": [
    "# KNN with Euclidean Distance Metric\n",
    "\n",
    "numNeighbors = [1, 5, 10, 15, 20, 25, 30]\n",
    "trainAcc = []\n",
    "testAcc = []\n",
    "\n",
    "for k in numNeighbors:\n",
    "    clf = KNeighborsClassifier(n_neighbors=k, metric='minkowski', p=2)\n",
    "    clf.fit(X_train, y_train)\n",
    "    y_predTrain = clf.predict(X_train)\n",
    "    y_predTest = clf.predict(X_test)\n",
    "    trainAcc.append(accuracy_score(y_train, y_predTrain))\n",
    "    testAcc.append(accuracy_score(y_test, y_predTest))\n",
    "\n",
    "plt.plot(numNeighbors, trainAcc, 'ro-', numNeighbors, testAcc,'bv--')\n",
    "plt.legend(['Training Accuracy','Test Accuracy'])\n",
    "plt.xlabel('Number of neighbors')\n",
    "plt.ylabel('Accuracy')\n",
    "\n",
    "index = 0\n",
    "for i in numNeighbors:\n",
    "    print(\"K = \", numNeighbors[index], \", Training Accuracy = \", trainAcc[index], \" Test Accuracy = \", testAcc[index],\n",
    "          \", Difference = \", np.abs(trainAcc[index]-testAcc[index])*100, \"%\")\n",
    "    index+=1"
   ]
  },
  {
   "cell_type": "code",
   "execution_count": 48,
   "id": "b4d985cd",
   "metadata": {
    "pycharm": {
     "is_executing": true,
     "name": "#%%\n"
    }
   },
   "outputs": [
    {
     "name": "stdout",
     "output_type": "stream",
     "text": [
      "K =  1 , Training Accuracy =  1.0  Test Accuracy =  0.5094339622641509 , Difference =  49.056603773584904 %\n",
      "K =  5 , Training Accuracy =  0.7474916387959866  Test Accuracy =  0.6792452830188679 , Difference =  6.824635577711868 %\n",
      "K =  10 , Training Accuracy =  0.7224080267558528  Test Accuracy =  0.7075471698113207 , Difference =  1.4860856944532097 %\n",
      "K =  15 , Training Accuracy =  0.725752508361204  Test Accuracy =  0.7075471698113207 , Difference =  1.8205338549883265 %\n",
      "K =  20 , Training Accuracy =  0.7274247491638796  Test Accuracy =  0.7075471698113207 , Difference =  1.987757935255885 %\n",
      "K =  25 , Training Accuracy =  0.7274247491638796  Test Accuracy =  0.7075471698113207 , Difference =  1.987757935255885 %\n",
      "K =  30 , Training Accuracy =  0.7274247491638796  Test Accuracy =  0.7075471698113207 , Difference =  1.987757935255885 %\n"
     ]
    },
    {
     "data": {
      "image/png": "[encoded data removed]",
      "text/plain": [
       "<Figure size 576x432 with 1 Axes>"
      ]
     },
     "metadata": {},
     "output_type": "display_data"
    }
   ],
   "source": [
    "numNeighbors = [1, 5, 10, 15, 20, 25, 30]\n",
    "trainAcc = []\n",
    "testAcc = []\n",
    "\n",
    "for k in numNeighbors:\n",
    "    clf = KNeighborsClassifier(n_neighbors=k, metric='minkowski', p=1)\n",
    "    clf.fit(X_train, y_train)\n",
    "    y_predTrain = clf.predict(X_train)\n",
    "    y_predTest = clf.predict(X_test)\n",
    "    trainAcc.append(accuracy_score(y_train, y_predTrain))\n",
    "    testAcc.append(accuracy_score(y_test, y_predTest))\n",
    "\n",
    "plt.plot(numNeighbors, trainAcc, 'ro-', numNeighbors, testAcc,'bv--')\n",
    "plt.legend(['Training Accuracy','Test Accuracy'])\n",
    "plt.xlabel('Number of neighbors')\n",
    "plt.ylabel('Accuracy')\n",
    "\n",
    "index = 0\n",
    "for i in numNeighbors:\n",
    "    print(\"K = \", numNeighbors[index], \", Training Accuracy = \", trainAcc[index], \" Test Accuracy = \", testAcc[index],\n",
    "          \", Difference = \", np.abs(trainAcc[index]-testAcc[index])*100, \"%\")\n",
    "    index+=1"
   ]
  },
  {
   "cell_type": "code",
   "execution_count": 49,
   "id": "0c82bfe3",
   "metadata": {
    "pycharm": {
     "is_executing": true,
     "name": "#%%\n"
    }
   },
   "outputs": [
    {
     "name": "stdout",
     "output_type": "stream",
     "text": [
      "Logistic Regression with no regularization\n",
      "Train Accuracy:  0.7274247491638796\n",
      "Test Accuracy:  0.7075471698113207\n",
      "\n",
      "Logistic Regression with L2 regularization\n",
      "Train Accuracy:  0.7274247491638796\n",
      "Test Accuracy:  0.7075471698113207\n",
      "              precision    recall  f1-score   support\n",
      "\n",
      "    Moderate       0.71      1.00      0.83        75\n",
      "        None       0.00      0.00      0.00        20\n",
      "      Severe       0.00      0.00      0.00        11\n",
      "\n",
      "    accuracy                           0.71       106\n",
      "   macro avg       0.24      0.33      0.28       106\n",
      "weighted avg       0.50      0.71      0.59       106\n",
      "\n"
     ]
    }
   ],
   "source": [
    "# Logistic Regression\n",
    "\n",
    "clf = LogisticRegression(penalty = 'none')\n",
    "\n",
    "clf.fit(X_train, y_train)\n",
    "y_pred_train = clf.predict(X_train)\n",
    "y_pred_test = clf.predict(X_test)\n",
    "print(\"Logistic Regression with no regularization\")\n",
    "print(\"Train Accuracy: \", accuracy_score(y_pred_train, y_train))\n",
    "print(\"Test Accuracy: \", accuracy_score(y_pred_test, y_test))\n",
    "print()\n",
    "\n",
    "clf = LogisticRegression(penalty = 'l2')\n",
    "\n",
    "clf.fit(X_train, y_train)\n",
    "y_pred_train = clf.predict(X_train)\n",
    "y_pred_test = clf.predict(X_test)\n",
    "print(\"Logistic Regression with L2 regularization\")\n",
    "print(\"Train Accuracy: \", accuracy_score(y_pred_train, y_train))\n",
    "print(\"Test Accuracy: \", accuracy_score(y_pred_test, y_test))\n",
    "print(classification_report(y_test, y_pred_test))"
   ]
  },
  {
   "cell_type": "code",
   "execution_count": 50,
   "id": "5a5d303b",
   "metadata": {
    "pycharm": {
     "is_executing": true
    }
   },
   "outputs": [
    {
     "name": "stdout",
     "output_type": "stream",
     "text": [
      "2\n",
      "Depth =  2 , Training Accuracy =  0.7274247491638796 , Test Accuracy =  0.7075471698113207 , Diff =  1.987757935255885  %\n",
      "Depth =  3 , Training Accuracy =  0.7274247491638796 , Test Accuracy =  0.7075471698113207 , Diff =  1.987757935255885  %\n",
      "Depth =  4 , Training Accuracy =  0.7274247491638796 , Test Accuracy =  0.7075471698113207 , Diff =  1.987757935255885  %\n",
      "Depth =  5 , Training Accuracy =  0.7357859531772575 , Test Accuracy =  0.7075471698113207 , Diff =  2.823878336593677  %\n",
      "Depth =  6 , Training Accuracy =  0.7408026755852842 , Test Accuracy =  0.7075471698113207 , Diff =  3.3255505773963523  %\n",
      "Depth =  7 , Training Accuracy =  0.7658862876254181 , Test Accuracy =  0.7075471698113207 , Diff =  5.833911781409739  %\n",
      "Depth =  8 , Training Accuracy =  0.794314381270903 , Test Accuracy =  0.7075471698113207 , Diff =  8.676721145958233  %\n",
      "Depth =  9 , Training Accuracy =  0.8344481605351171 , Test Accuracy =  0.7075471698113207 , Diff =  12.690099072379635  %\n",
      "Depth =  10 , Training Accuracy =  0.8712374581939799 , Test Accuracy =  0.6981132075471698 , Diff =  17.312425064681015  %\n",
      "Depth =  15 , Training Accuracy =  0.9966555183946488 , Test Accuracy =  0.6981132075471698 , Diff =  29.854231084747905  %\n",
      "Depth =  20 , Training Accuracy =  1.0 , Test Accuracy =  0.7075471698113207 , Diff =  29.24528301886793  %\n",
      "Depth =  25 , Training Accuracy =  1.0 , Test Accuracy =  0.7169811320754716 , Diff =  28.301886792452834  %\n",
      "Depth =  30 , Training Accuracy =  1.0 , Test Accuracy =  0.6981132075471698 , Diff =  30.188679245283023  %\n",
      "Depth =  35 , Training Accuracy =  1.0 , Test Accuracy =  0.7169811320754716 , Diff =  28.301886792452834  %\n",
      "Depth =  40 , Training Accuracy =  1.0 , Test Accuracy =  0.7169811320754716 , Diff =  28.301886792452834  %\n",
      "Depth =  45 , Training Accuracy =  1.0 , Test Accuracy =  0.7075471698113207 , Diff =  29.24528301886793  %\n",
      "Depth =  50 , Training Accuracy =  1.0 , Test Accuracy =  0.7075471698113207 , Diff =  29.24528301886793  %\n",
      "\n",
      "\n",
      "\n",
      "Best depth is  2\n",
      "              precision    recall  f1-score   support\n",
      "\n",
      "    Moderate       0.71      1.00      0.83        75\n",
      "        None       0.00      0.00      0.00        20\n",
      "      Severe       0.00      0.00      0.00        11\n",
      "\n",
      "    accuracy                           0.71       106\n",
      "   macro avg       0.24      0.33      0.28       106\n",
      "weighted avg       0.50      0.71      0.59       106\n",
      "\n"
     ]
    },
    {
     "data": {
      "text/plain": [
       "Text(0, 0.5, 'Accuracy')"
      ]
     },
     "execution_count": 50,
     "metadata": {},
     "output_type": "execute_result"
    },
    {
     "data": {
      "image/png": "[encoded data removed]",
      "text/plain": [
       "<Figure size 576x432 with 1 Axes>"
      ]
     },
     "metadata": {},
     "output_type": "display_data"
    }
   ],
   "source": [
    "# Random Forest Classifier\n",
    "\n",
    "maxdepths = [2,3,4,5,6,7,8,9,10,15,20,25,30,35,40,45,50]\n",
    "trainAcc = np.zeros(len(maxdepths))\n",
    "testAcc = np.zeros(len(maxdepths))\n",
    "difference = 100.0\n",
    "best_depth = 0\n",
    "\n",
    "index = 0\n",
    "for depth in maxdepths:\n",
    "    clf = RandomForestClassifier(max_depth=depth)\n",
    "    clf = clf.fit(X_train, y_train)\n",
    "    y_predTrain = clf.predict(X_train)\n",
    "    y_predTest = clf.predict(X_test)\n",
    "    trainAcc[index] = accuracy_score(y_train, y_predTrain)\n",
    "    testAcc[index] = accuracy_score(y_test, y_predTest)\n",
    "    curr_difference = np.abs(trainAcc[index]-testAcc[index]) * 100.00\n",
    "    if curr_difference < difference:\n",
    "        difference = curr_difference\n",
    "        print(depth)\n",
    "        best_depth = depth\n",
    "    print(\"Depth = \", depth, \", Training Accuracy = \", trainAcc[index], \", Test Accuracy = \", testAcc[index],\n",
    "          \", Diff = \", curr_difference, \" %\")\n",
    "    index += 1\n",
    "\n",
    "print('\\n\\n')\n",
    "print('Best depth is ', best_depth)\n",
    "clf = RandomForestClassifier(max_depth=best_depth)\n",
    "clf = clf.fit(X_train, y_train)\n",
    "y_predTrain = clf.predict(X_train)\n",
    "y_predTest = clf.predict(X_test)\n",
    "print(classification_report(y_test, y_predTest))\n",
    "#########################################\n",
    "# Plot of training and test accuracies\n",
    "#########################################\n",
    "\n",
    "plt.plot(maxdepths,trainAcc,'ro-',maxdepths,testAcc,'bv--')\n",
    "plt.legend(['Training Accuracy','Test Accuracy'])\n",
    "plt.xlabel('Max depth')\n",
    "plt.ylabel('Accuracy')"
   ]
  },
  {
   "cell_type": "code",
   "execution_count": 51,
   "id": "0bde24a7",
   "metadata": {
    "pycharm": {
     "is_executing": true,
     "name": "#%%\n"
    }
   },
   "outputs": [
    {
     "name": "stdout",
     "output_type": "stream",
     "text": [
      "Train Accuracy:  0.725752508361204\n",
      "Test Accuracy:  0.7075471698113207\n",
      "              precision    recall  f1-score   support\n",
      "\n",
      "    Moderate       0.71      1.00      0.83        75\n",
      "        None       0.00      0.00      0.00        20\n",
      "      Severe       0.00      0.00      0.00        11\n",
      "\n",
      "    accuracy                           0.71       106\n",
      "   macro avg       0.24      0.33      0.28       106\n",
      "weighted avg       0.50      0.71      0.59       106\n",
      "\n"
     ]
    }
   ],
   "source": [
    "# Perception\n",
    "\n",
    "clf = Perceptron(tol=1e-3, random_state=0)\n",
    "clf.fit(X_train, y_train)\n",
    "y_pred_train = clf.predict(X_train)\n",
    "y_pred_test = clf.predict(X_test)\n",
    "print(\"Train Accuracy: \", accuracy_score(y_pred_train, y_train))\n",
    "print(\"Test Accuracy: \", accuracy_score(y_pred_test, y_test))\n",
    "print(classification_report(y_test, y_pred_test))"
   ]
  },
  {
   "cell_type": "code",
   "execution_count": 52,
   "id": "d4c8b976",
   "metadata": {
    "pycharm": {
     "is_executing": true,
     "name": "#%%\n"
    }
   },
   "outputs": [
    {
     "name": "stdout",
     "output_type": "stream",
     "text": [
      "Train Accuracy:  0.7274247491638796\n",
      "Test Accuracy:  0.7075471698113207\n",
      "              precision    recall  f1-score   support\n",
      "\n",
      "    Moderate       0.71      1.00      0.83        75\n",
      "        None       0.00      0.00      0.00        20\n",
      "      Severe       0.00      0.00      0.00        11\n",
      "\n",
      "    accuracy                           0.71       106\n",
      "   macro avg       0.24      0.33      0.28       106\n",
      "weighted avg       0.50      0.71      0.59       106\n",
      "\n"
     ]
    }
   ],
   "source": [
    "# Multinomial Naive Bayes\n",
    "\n",
    "clf = MultinomialNB()\n",
    "clf.fit(X_train, y_train)\n",
    "y_pred_train = clf.predict(X_train)\n",
    "y_pred_test = clf.predict(X_test)\n",
    "print(\"Train Accuracy: \", accuracy_score(y_pred_train, y_train))\n",
    "print(\"Test Accuracy: \", accuracy_score(y_pred_test, y_test))\n",
    "print(classification_report(y_test, y_pred_test))"
   ]
  },
  {
   "cell_type": "code",
   "execution_count": 53,
   "id": "43c1fcd2",
   "metadata": {
    "pycharm": {
     "is_executing": true,
     "name": "#%%\n"
    }
   },
   "outputs": [
    {
     "name": "stdout",
     "output_type": "stream",
     "text": [
      "Train Accuracy:  0.7274247491638796\n",
      "Test Accuracy:  0.7075471698113207\n",
      "              precision    recall  f1-score   support\n",
      "\n",
      "    Moderate       0.71      1.00      0.83        75\n",
      "        None       0.00      0.00      0.00        20\n",
      "      Severe       0.00      0.00      0.00        11\n",
      "\n",
      "    accuracy                           0.71       106\n",
      "   macro avg       0.24      0.33      0.28       106\n",
      "weighted avg       0.50      0.71      0.59       106\n",
      "\n"
     ]
    }
   ],
   "source": [
    "# SVC\n",
    "\n",
    "clf = SVC(gamma = 'auto', random_state = 0)\n",
    "clf.fit(X_train, y_train)\n",
    "y_pred_train = clf.predict(X_train)\n",
    "y_pred_test = clf.predict(X_test)\n",
    "print(\"Train Accuracy: \", accuracy_score(y_pred_train, y_train))\n",
    "print(\"Test Accuracy: \", accuracy_score(y_pred_test, y_test))\n",
    "print(classification_report(y_test, y_pred_test))"
   ]
  },
  {
   "cell_type": "code",
   "execution_count": 54,
   "id": "f0dc6948",
   "metadata": {
    "pycharm": {
     "is_executing": true,
     "name": "#%%\n"
    }
   },
   "outputs": [
    {
     "name": "stdout",
     "output_type": "stream",
     "text": [
      "Confusion Matrix for the Test Case\n",
      "[[75  0  0]\n",
      " [20  0  0]\n",
      " [11  0  0]]\n",
      "\n",
      "Classification Report\n",
      "              precision    recall  f1-score   support\n",
      "\n",
      "    Moderate      0.708     1.000     0.829        75\n",
      "        None      0.000     0.000     0.000        20\n",
      "      Severe      0.000     0.000     0.000        11\n",
      "\n",
      "    accuracy                          0.708       106\n",
      "   macro avg      0.236     0.333     0.276       106\n",
      "weighted avg      0.501     0.708     0.586       106\n",
      "\n"
     ]
    }
   ],
   "source": [
    "# for the SVC classifier\n",
    "\n",
    "print(\"Confusion Matrix for the Test Case\")\n",
    "print(metrics.confusion_matrix(y_test, y_pred_test))\n",
    "print()\n",
    "print(\"Classification Report\")\n",
    "print(metrics.classification_report(y_test, y_pred_test, digits = 3))"
   ]
  },
  {
   "cell_type": "code",
   "execution_count": 55,
   "id": "4f152f4c",
   "metadata": {
    "pycharm": {
     "is_executing": true,
     "name": "#%%\n"
    }
   },
   "outputs": [
    {
     "ename": "ValueError",
     "evalue": "SVC should be a binary classifier",
     "output_type": "error",
     "traceback": [
      "\u001B[1;31m---------------------------------------------------------------------------\u001B[0m",
      "\u001B[1;31mValueError\u001B[0m                                Traceback (most recent call last)",
      "\u001B[1;32m<ipython-input-55-64bfe71ca086>\u001B[0m in \u001B[0;36m<module>\u001B[1;34m\u001B[0m\n\u001B[0;32m      3\u001B[0m \u001B[0mclf\u001B[0m \u001B[1;33m=\u001B[0m \u001B[0mSVC\u001B[0m\u001B[1;33m(\u001B[0m\u001B[0mgamma\u001B[0m \u001B[1;33m=\u001B[0m \u001B[1;34m'auto'\u001B[0m\u001B[1;33m,\u001B[0m \u001B[0mrandom_state\u001B[0m \u001B[1;33m=\u001B[0m \u001B[1;36m0\u001B[0m\u001B[1;33m)\u001B[0m\u001B[1;33m\u001B[0m\u001B[1;33m\u001B[0m\u001B[0m\n\u001B[0;32m      4\u001B[0m \u001B[0mclf\u001B[0m\u001B[1;33m.\u001B[0m\u001B[0mfit\u001B[0m\u001B[1;33m(\u001B[0m\u001B[0mX_train\u001B[0m\u001B[1;33m,\u001B[0m \u001B[0my_train\u001B[0m\u001B[1;33m)\u001B[0m\u001B[1;33m\u001B[0m\u001B[1;33m\u001B[0m\u001B[0m\n\u001B[1;32m----> 5\u001B[1;33m \u001B[0mmetrics\u001B[0m\u001B[1;33m.\u001B[0m\u001B[0mplot_roc_curve\u001B[0m\u001B[1;33m(\u001B[0m\u001B[0mclf\u001B[0m\u001B[1;33m,\u001B[0m \u001B[0mX_test\u001B[0m\u001B[1;33m,\u001B[0m \u001B[0my_test\u001B[0m\u001B[1;33m)\u001B[0m\u001B[1;33m\u001B[0m\u001B[1;33m\u001B[0m\u001B[0m\n\u001B[0m",
      "\u001B[1;32m~\\anaconda3\\lib\\site-packages\\sklearn\\utils\\validation.py\u001B[0m in \u001B[0;36minner_f\u001B[1;34m(*args, **kwargs)\u001B[0m\n\u001B[0;32m     61\u001B[0m             \u001B[0mextra_args\u001B[0m \u001B[1;33m=\u001B[0m \u001B[0mlen\u001B[0m\u001B[1;33m(\u001B[0m\u001B[0margs\u001B[0m\u001B[1;33m)\u001B[0m \u001B[1;33m-\u001B[0m \u001B[0mlen\u001B[0m\u001B[1;33m(\u001B[0m\u001B[0mall_args\u001B[0m\u001B[1;33m)\u001B[0m\u001B[1;33m\u001B[0m\u001B[1;33m\u001B[0m\u001B[0m\n\u001B[0;32m     62\u001B[0m             \u001B[1;32mif\u001B[0m \u001B[0mextra_args\u001B[0m \u001B[1;33m<=\u001B[0m \u001B[1;36m0\u001B[0m\u001B[1;33m:\u001B[0m\u001B[1;33m\u001B[0m\u001B[1;33m\u001B[0m\u001B[0m\n\u001B[1;32m---> 63\u001B[1;33m                 \u001B[1;32mreturn\u001B[0m \u001B[0mf\u001B[0m\u001B[1;33m(\u001B[0m\u001B[1;33m*\u001B[0m\u001B[0margs\u001B[0m\u001B[1;33m,\u001B[0m \u001B[1;33m**\u001B[0m\u001B[0mkwargs\u001B[0m\u001B[1;33m)\u001B[0m\u001B[1;33m\u001B[0m\u001B[1;33m\u001B[0m\u001B[0m\n\u001B[0m\u001B[0;32m     64\u001B[0m \u001B[1;33m\u001B[0m\u001B[0m\n\u001B[0;32m     65\u001B[0m             \u001B[1;31m# extra_args > 0\u001B[0m\u001B[1;33m\u001B[0m\u001B[1;33m\u001B[0m\u001B[1;33m\u001B[0m\u001B[0m\n",
      "\u001B[1;32m~\\anaconda3\\lib\\site-packages\\sklearn\\metrics\\_plot\\roc_curve.py\u001B[0m in \u001B[0;36mplot_roc_curve\u001B[1;34m(estimator, X, y, sample_weight, drop_intermediate, response_method, name, ax, pos_label, **kwargs)\u001B[0m\n\u001B[0;32m    210\u001B[0m     \u001B[0mcheck_matplotlib_support\u001B[0m\u001B[1;33m(\u001B[0m\u001B[1;34m'plot_roc_curve'\u001B[0m\u001B[1;33m)\u001B[0m\u001B[1;33m\u001B[0m\u001B[1;33m\u001B[0m\u001B[0m\n\u001B[0;32m    211\u001B[0m \u001B[1;33m\u001B[0m\u001B[0m\n\u001B[1;32m--> 212\u001B[1;33m     y_pred, pos_label = _get_response(\n\u001B[0m\u001B[0;32m    213\u001B[0m         X, estimator, response_method, pos_label=pos_label)\n\u001B[0;32m    214\u001B[0m \u001B[1;33m\u001B[0m\u001B[0m\n",
      "\u001B[1;32m~\\anaconda3\\lib\\site-packages\\sklearn\\metrics\\_plot\\base.py\u001B[0m in \u001B[0;36m_get_response\u001B[1;34m(X, estimator, response_method, pos_label)\u001B[0m\n\u001B[0;32m     99\u001B[0m     \u001B[1;32mif\u001B[0m \u001B[0my_pred\u001B[0m\u001B[1;33m.\u001B[0m\u001B[0mndim\u001B[0m \u001B[1;33m!=\u001B[0m \u001B[1;36m1\u001B[0m\u001B[1;33m:\u001B[0m  \u001B[1;31m# `predict_proba`\u001B[0m\u001B[1;33m\u001B[0m\u001B[1;33m\u001B[0m\u001B[0m\n\u001B[0;32m    100\u001B[0m         \u001B[1;32mif\u001B[0m \u001B[0my_pred\u001B[0m\u001B[1;33m.\u001B[0m\u001B[0mshape\u001B[0m\u001B[1;33m[\u001B[0m\u001B[1;36m1\u001B[0m\u001B[1;33m]\u001B[0m \u001B[1;33m!=\u001B[0m \u001B[1;36m2\u001B[0m\u001B[1;33m:\u001B[0m\u001B[1;33m\u001B[0m\u001B[1;33m\u001B[0m\u001B[0m\n\u001B[1;32m--> 101\u001B[1;33m             \u001B[1;32mraise\u001B[0m \u001B[0mValueError\u001B[0m\u001B[1;33m(\u001B[0m\u001B[0mclassification_error\u001B[0m\u001B[1;33m)\u001B[0m\u001B[1;33m\u001B[0m\u001B[1;33m\u001B[0m\u001B[0m\n\u001B[0m\u001B[0;32m    102\u001B[0m         \u001B[1;32mif\u001B[0m \u001B[0mpos_label\u001B[0m \u001B[1;32mis\u001B[0m \u001B[1;32mNone\u001B[0m\u001B[1;33m:\u001B[0m\u001B[1;33m\u001B[0m\u001B[1;33m\u001B[0m\u001B[0m\n\u001B[0;32m    103\u001B[0m             \u001B[0mpos_label\u001B[0m \u001B[1;33m=\u001B[0m \u001B[0mestimator\u001B[0m\u001B[1;33m.\u001B[0m\u001B[0mclasses_\u001B[0m\u001B[1;33m[\u001B[0m\u001B[1;36m1\u001B[0m\u001B[1;33m]\u001B[0m\u001B[1;33m\u001B[0m\u001B[1;33m\u001B[0m\u001B[0m\n",
      "\u001B[1;31mValueError\u001B[0m: SVC should be a binary classifier"
     ]
    }
   ],
   "source": [
    "# plot roc curve\n",
    "\n",
    "clf = SVC(gamma = 'auto', random_state = 0)\n",
    "clf.fit(X_train, y_train)\n",
    "metrics.plot_roc_curve(clf, X_test, y_test)"
   ]
  }
 ],
 "metadata": {
  "kernelspec": {
   "display_name": "PyCharm (Lifestyle-and-Depression-Among-University-Students)",
   "language": "python",
   "name": "pycharm-67f16e87"
  },
  "language_info": {
   "codemirror_mode": {
    "name": "ipython",
    "version": 3
   },
   "file_extension": ".py",
   "mimetype": "text/x-python",
   "name": "python",
   "nbconvert_exporter": "python",
   "pygments_lexer": "ipython3",
   "version": "3.8.8"
  }
 },
 "nbformat": 4,
 "nbformat_minor": 5
}